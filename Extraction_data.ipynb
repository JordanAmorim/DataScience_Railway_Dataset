{
 "cells": [
  {
   "cell_type": "markdown",
   "metadata": {},
   "source": [
    "# Diagnóstico e monitoração da via férrea através de vagão instrumentado"
   ]
  },
  {
   "cell_type": "markdown",
   "metadata": {},
   "source": [
    "Visando identificar variações dos dados de acelerômetro, para pontuar trechos da via em que existe alguma espécie de anomalia e informar à equipe encarregada pela manutenção da via férrea."
   ]
  },
  {
   "cell_type": "markdown",
   "metadata": {},
   "source": [
    "# Importação de Bibliotecas"
   ]
  },
  {
   "cell_type": "code",
   "execution_count": 4,
   "metadata": {},
   "outputs": [],
   "source": [
    "from copy import deepcopy\n",
    "import os\n",
    "import pickle\n",
    "import sys\n",
    "from tqdm import tqdm\n",
    "import numpy as np\n",
    "import scipy.io as io\n",
    "import pandas as pd\n",
    "import h5py\n",
    "import pyarrow"
   ]
  },
  {
   "cell_type": "markdown",
   "metadata": {},
   "source": [
    "# Diretório"
   ]
  },
  {
   "cell_type": "code",
   "execution_count": 39,
   "metadata": {},
   "outputs": [],
   "source": [
    "# Diretório do Pc do Jordan\n",
    "path = 'H:\\\\.shortcut-targets-by-id\\\\1oKn7IN7zznQuhwjDCDdjq8r9wHJYBEhj\\\\DR_Train\\\\LRV4313'\n",
    "\n",
    "#Obtendo o diretório específico para...\n",
    "acc_path = f'{path}\\\\accelerometer_data\\\\' #Acelerômetro\n",
    "gps_path = f'{path}\\\\gps_data\\\\'           #GPS\n",
    "\n",
    "#Listando o nome dos arquivos das pastas\n",
    "acc_names = os.listdir(acc_path)\n",
    "gps_names = os.listdir(gps_path)"
   ]
  },
  {
   "cell_type": "markdown",
   "metadata": {},
   "source": [
    "# Dados de acelerômetros"
   ]
  },
  {
   "cell_type": "markdown",
   "metadata": {},
   "source": [
    "Carregando dados dos acelerômetros"
   ]
  },
  {
   "cell_type": "code",
   "execution_count": 27,
   "metadata": {},
   "outputs": [],
   "source": [
    "print('Carregando os dados dos acelerômetros...')\n",
    "accel_data = {}\n",
    "for file in tqdm(acc_names):\n",
    "    # Separação do nome do arquivo com ('_') como separador: EX. ['3157', '20151022', '3', '2', '5', '2', '5.mat']\n",
    "    splited_name = file.split('_')\n",
    "    # Data: Segunda variável\n",
    "    date = splited_name[1]\n",
    "    # Nº da passagem: Quarta variável\n",
    "    daily_passing = splited_name[3]\n",
    "    # Região: Quinta variável\n",
    "    region_number = splited_name[4]\n",
    "    # Direção da viagem: Sexta variável\n",
    "    running_direction = splited_name[5]\n",
    "    # Sensor: Sétima variável\n",
    "    sensor = splited_name[-1][0]\n",
    "\n",
    "    # Será armazenado somente os dados da região 5:\n",
    "    if region_number == '5':\n",
    "        try:    \n",
    "            with h5py.File(f'{acc_path}/{file}', 'r') as f:\n",
    "                sensor_data = f.get('save_var_accel')\n",
    "                sensor_data = np.array(sensor_data)  \n",
    "        except:\n",
    "            sensor_data = io.loadmat(f'{acc_path}/{file}')\n",
    "            sensor_data = sensor_data['save_var_accel'] \n",
    "\n",
    "        sensor_data = sensor_data.reshape((-1,))\n",
    "        sensor_data = sensor_data.astype('float32')\n",
    "\n",
    "        if not accel_data.get(f'{date}_{daily_passing}_{running_direction}'):\n",
    "                accel_data[f'{date}_{daily_passing}_{running_direction}'] = {}\n",
    "                \n",
    "        accel_data[f'{date}_{daily_passing}_{running_direction}'][f'sensor_{sensor}'] = sensor_data\n"
   ]
  },
  {
   "cell_type": "markdown",
   "metadata": {},
   "source": [
    "Concatenação dos dados dos acelerômetros"
   ]
  },
  {
   "cell_type": "code",
   "execution_count": 22,
   "metadata": {},
   "outputs": [],
   "source": [
    "print('Concatenação dos dados...')\n",
    "\n",
    "#Concatenação dos dados para montagem do DataFrame\n",
    "full_df = pd.DataFrame()\n",
    "for key, values in tqdm(data.items()):\n",
    "    info = key.split('_')\n",
    "    partial_df = pd.DataFrame()\n",
    "    for k in values.keys():\n",
    "        partial_df[k] = values[k]\n",
    "\n",
    "    partial_df['date'] = int(info[0])\n",
    "    partial_df['daily_passing'] = int(info[1])\n",
    "    partial_df['running_direction'] = int(info[2])\n",
    "    \n",
    "    if full_df.empty:\n",
    "        full_df = partial_df\n",
    "    else:\n",
    "        full_df = pd.concat([full_df, partial_df])\n",
    "\n",
    "full_df.reset_index(inplace=True, drop=True)"
   ]
  },
  {
   "cell_type": "code",
   "execution_count": 29,
   "metadata": {},
   "outputs": [],
   "source": [
    "nao_nulos = full_df.isnull().sum()\n",
    "nulos = nao_nulos.sum()\n",
    "print(f'Número de dados nulos: {nulos}')\n",
    "\n",
    "# Gravação dos dados de acelerômetro em .parquet\n",
    "print('Salvando os dados em .parquet...')\n",
    "\n",
    "# Consultando se existe a pasta no diretório raiz\n",
    "os.makedirs('accel_data/', exist_ok=True)\n",
    "\n",
    "prefix = path.split('/')[-1] #Prefixo do nome a ser salvo no arquivo. EX. \"LRV4306_acc.parquet\"\n",
    "full_df.to_parquet(f'accel_data/{prefix}_acc.parquet', index=False)"
   ]
  },
  {
   "cell_type": "markdown",
   "metadata": {},
   "source": [
    "# Dados de GPS"
   ]
  },
  {
   "cell_type": "markdown",
   "metadata": {},
   "source": [
    "Carregamento dos dados dos GPS"
   ]
  },
  {
   "cell_type": "code",
   "execution_count": 35,
   "metadata": {},
   "outputs": [],
   "source": [
    "data_gps = {}\n",
    "print('Carregando os dados dos GPS...')\n",
    "for file in tqdm(gps_names):\n",
    "    if file[-4:] == '.ini':\n",
    "        pass\n",
    "    else:\n",
    "        # Separação do nome do arquivo com ('_') como separador: EX.['2769', '20150924', '6', '1', '6', '2gps.mat']\n",
    "        splited_name = file.split('_') \n",
    "        # Data: Segunda variável\n",
    "        date = splited_name[1] \n",
    "        # Nº da passagem: Quarta variável\n",
    "        daily_passing = splited_name[3]\n",
    "        # Região: Quinta variável\n",
    "        region_number = splited_name[4]\n",
    "        # Direção da viagem: Sétima variável\n",
    "        running_direction = splited_name[-1][0]\n",
    "        \n",
    "        # Será armazenado somente os dados da região 5:\n",
    "        if region_number == '5':\n",
    "            gps_data = io.loadmat(f'{gps_path}/{file}')\n",
    "            gps_data = gps_data['save_var_gps']\n",
    "\n",
    "            if not data_gps.get(f'{date}_{daily_passing}_{running_direction}'):\n",
    "                data_gps[f'{date}_{daily_passing}_{running_direction}'] = {}\n",
    "\n",
    "            for i in range(gps_data.shape[1]):\n",
    "                data_gps[f'{date}_{daily_passing}_{running_direction}'][f'gps_{i}'] = gps_data[:, i]"
   ]
  },
  {
   "cell_type": "markdown",
   "metadata": {},
   "source": [
    "Concatenação dos dados de gps"
   ]
  },
  {
   "cell_type": "code",
   "execution_count": 37,
   "metadata": {},
   "outputs": [],
   "source": [
    "print('Concatenação dos dados...')\n",
    "#Concatenação dos dados para montagem do DataFrame\n",
    "full_df = pd.DataFrame()\n",
    "for key, values in tqdm(data_gps.items()):\n",
    "    info = key.split('_')\n",
    "    partial_df = pd.DataFrame()\n",
    "    for k in values.keys():\n",
    "        partial_df[k] = values[k]\n",
    "\n",
    "    partial_df['date'] = int(info[0])\n",
    "    partial_df['daily_passing'] = int(info[1])\n",
    "    partial_df['running_direction'] = int(info[2])\n",
    "    \n",
    "    if full_df.empty:\n",
    "        full_df = partial_df\n",
    "    else:\n",
    "        full_df = pd.concat([full_df, partial_df])\n",
    "\n",
    "full_df.reset_index(inplace=True, drop=True)"
   ]
  },
  {
   "cell_type": "code",
   "execution_count": 38,
   "metadata": {},
   "outputs": [],
   "source": [
    "non_nulos = full_df.isnull().sum()\n",
    "nulos = non_nulos.sum()\n",
    "print(f'Número de dados nulos: {nulos}')\n",
    "\n",
    "# Gravação dos dados de GPS em .parquet\n",
    "print('Salvando os dados em .parquet...')\n",
    "\n",
    "# Consultando se existe a pasta no diretório raiz\n",
    "os.makedirs('gps_data/', exist_ok=True)\n",
    "\n",
    "prefix = path.split('\\\\')[-1] #Prefixo do nome a ser salvo no arquivo. EX. \"LRV4306_gps.parquet\"\n",
    "full_df.to_parquet(f'gps_data/{prefix}_gps.parquet', index=False)"
   ]
  }
 ],
 "metadata": {
  "kernelspec": {
   "display_name": "Python 3.9.0 64-bit",
   "language": "python",
   "name": "python3"
  },
  "language_info": {
   "codemirror_mode": {
    "name": "ipython",
    "version": 3
   },
   "file_extension": ".py",
   "mimetype": "text/x-python",
   "name": "python",
   "nbconvert_exporter": "python",
   "pygments_lexer": "ipython3",
   "version": "3.9.0"
  },
  "orig_nbformat": 4,
  "vscode": {
   "interpreter": {
    "hash": "374aeb0ec5b4e2eb0883532f4bc729b84c23b17c2796968bdc69d5879eefb4be"
   }
  }
 },
 "nbformat": 4,
 "nbformat_minor": 2
}
