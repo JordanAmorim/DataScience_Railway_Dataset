{
 "cells": [
  {
   "cell_type": "code",
   "execution_count": 2,
   "metadata": {},
   "outputs": [],
   "source": [
    "import pandas as pd\n",
    "from glob import glob\n",
    "import matplotlib.pyplot as plt\n",
    "import h5py\n",
    "import numpy as np\n",
    "import scipy.io\n",
    "from os import listdir\n",
    "from os import mkdir\n",
    "import pyarrow"
   ]
  },
  {
   "cell_type": "code",
   "execution_count": 3,
   "metadata": {},
   "outputs": [
    {
     "name": "stdout",
     "output_type": "stream",
     "text": [
      "['LRV4306_accelerometer_data', 'LRV4306_accelerometer_data_teste', 'LRV4306_gps_data', 'LRV4306_gps_data_teste', 'LRV4313_accelerometer_data', 'LRV4313_gps_data']\n"
     ]
    }
   ],
   "source": [
    "\"\"\"Pasta de origem dos dados e pasta de destino para os dados trabalhados\"\"\"\n",
    "path_sources = r'C:\\Users\\vinic\\python_projects\\monitoracao_project\\dados'\n",
    "path_destiny = r'C:\\Users\\vinic\\python_projects\\monitoracao_project\\dados_parquet'\n",
    "\n",
    "folders = listdir(path_sources) # Lembrar de tirar o [0] quando for rodar tudo\n",
    "#folders = [folders[2]] # teste com uma pasta só\n",
    "print(folders)"
   ]
  },
  {
   "cell_type": "markdown",
   "metadata": {},
   "source": [
    "### Teste"
   ]
  },
  {
   "cell_type": "code",
   "execution_count": 62,
   "metadata": {},
   "outputs": [
    {
     "ename": "ValueError",
     "evalue": "could not broadcast input array from shape (865447,1) into shape (865447,)",
     "output_type": "error",
     "traceback": [
      "\u001b[1;31m---------------------------------------------------------------------------\u001b[0m",
      "\u001b[1;31mValueError\u001b[0m                                Traceback (most recent call last)",
      "\u001b[1;32mc:\\Users\\vinic\\python_projects\\monitoracao_project\\DataScience_Railway_Dataset\\Trabalho-2022-2.ipynb Célula: 4\u001b[0m in \u001b[0;36m<cell line: 48>\u001b[1;34m()\u001b[0m\n\u001b[0;32m     <a href='vscode-notebook-cell:/c%3A/Users/vinic/python_projects/monitoracao_project/DataScience_Railway_Dataset/Trabalho-2022-2.ipynb#ch0000004?line=54'>55</a>\u001b[0m     \u001b[39mfor\u001b[39;00m k \u001b[39min\u001b[39;00m \u001b[39mrange\u001b[39m(\u001b[39mlen\u001b[39m(Dados\u001b[39m.\u001b[39mkeys())):\n\u001b[0;32m     <a href='vscode-notebook-cell:/c%3A/Users/vinic/python_projects/monitoracao_project/DataScience_Railway_Dataset/Trabalho-2022-2.ipynb#ch0000004?line=55'>56</a>\u001b[0m         \u001b[39mif\u001b[39;00m props[\u001b[39m-\u001b[39m\u001b[39m1\u001b[39m] \u001b[39min\u001b[39;00m Dados\u001b[39m.\u001b[39mkeys()[k]\u001b[39m+\u001b[39m\u001b[39m'\u001b[39m\u001b[39m.mat\u001b[39m\u001b[39m'\u001b[39m:\n\u001b[1;32m---> <a href='vscode-notebook-cell:/c%3A/Users/vinic/python_projects/monitoracao_project/DataScience_Railway_Dataset/Trabalho-2022-2.ipynb#ch0000004?line=56'>57</a>\u001b[0m             Dados\u001b[39m.\u001b[39miloc[linha:(linha\u001b[39m+\u001b[39mn_linhas), k]\u001b[39m=\u001b[39mdata\n\u001b[0;32m     <a href='vscode-notebook-cell:/c%3A/Users/vinic/python_projects/monitoracao_project/DataScience_Railway_Dataset/Trabalho-2022-2.ipynb#ch0000004?line=61'>62</a>\u001b[0m \u001b[39melif\u001b[39;00m \u001b[39m'\u001b[39m\u001b[39mgps\u001b[39m\u001b[39m'\u001b[39m \u001b[39min\u001b[39;00m folders[i]:\n\u001b[0;32m     <a href='vscode-notebook-cell:/c%3A/Users/vinic/python_projects/monitoracao_project/DataScience_Railway_Dataset/Trabalho-2022-2.ipynb#ch0000004?line=63'>64</a>\u001b[0m     df \u001b[39m=\u001b[39m pd\u001b[39m.\u001b[39mDataFrame({\u001b[39m'\u001b[39m\u001b[39mData\u001b[39m\u001b[39m'\u001b[39m:[props[\u001b[39m1\u001b[39m]], \u001b[39m'\u001b[39m\u001b[39mN Passagens\u001b[39m\u001b[39m'\u001b[39m:[props[\u001b[39m2\u001b[39m]], \u001b[39m'\u001b[39m\u001b[39mDirecao\u001b[39m\u001b[39m'\u001b[39m:[props[\u001b[39m3\u001b[39m]], \u001b[39m'\u001b[39m\u001b[39mAltura\u001b[39m\u001b[39m'\u001b[39m:[\u001b[39m0\u001b[39m], \u001b[39m'\u001b[39m\u001b[39mLongitude\u001b[39m\u001b[39m'\u001b[39m:[\u001b[39m0\u001b[39m], \u001b[39m'\u001b[39m\u001b[39mAltura\u001b[39m\u001b[39m'\u001b[39m:[\u001b[39m0\u001b[39m]})\n",
      "File \u001b[1;32mc:\\Users\\vinic\\AppData\\Local\\Programs\\Python\\Python310\\lib\\site-packages\\pandas\\core\\indexing.py:716\u001b[0m, in \u001b[0;36m_LocationIndexer.__setitem__\u001b[1;34m(self, key, value)\u001b[0m\n\u001b[0;32m    713\u001b[0m \u001b[39mself\u001b[39m\u001b[39m.\u001b[39m_has_valid_setitem_indexer(key)\n\u001b[0;32m    715\u001b[0m iloc \u001b[39m=\u001b[39m \u001b[39mself\u001b[39m \u001b[39mif\u001b[39;00m \u001b[39mself\u001b[39m\u001b[39m.\u001b[39mname \u001b[39m==\u001b[39m \u001b[39m\"\u001b[39m\u001b[39miloc\u001b[39m\u001b[39m\"\u001b[39m \u001b[39melse\u001b[39;00m \u001b[39mself\u001b[39m\u001b[39m.\u001b[39mobj\u001b[39m.\u001b[39miloc\n\u001b[1;32m--> 716\u001b[0m iloc\u001b[39m.\u001b[39;49m_setitem_with_indexer(indexer, value, \u001b[39mself\u001b[39;49m\u001b[39m.\u001b[39;49mname)\n",
      "File \u001b[1;32mc:\\Users\\vinic\\AppData\\Local\\Programs\\Python\\Python310\\lib\\site-packages\\pandas\\core\\indexing.py:1690\u001b[0m, in \u001b[0;36m_iLocIndexer._setitem_with_indexer\u001b[1;34m(self, indexer, value, name)\u001b[0m\n\u001b[0;32m   1688\u001b[0m     \u001b[39mself\u001b[39m\u001b[39m.\u001b[39m_setitem_with_indexer_split_path(indexer, value, name)\n\u001b[0;32m   1689\u001b[0m \u001b[39melse\u001b[39;00m:\n\u001b[1;32m-> 1690\u001b[0m     \u001b[39mself\u001b[39;49m\u001b[39m.\u001b[39;49m_setitem_single_block(indexer, value, name)\n",
      "File \u001b[1;32mc:\\Users\\vinic\\AppData\\Local\\Programs\\Python\\Python310\\lib\\site-packages\\pandas\\core\\indexing.py:1938\u001b[0m, in \u001b[0;36m_iLocIndexer._setitem_single_block\u001b[1;34m(self, indexer, value, name)\u001b[0m\n\u001b[0;32m   1935\u001b[0m \u001b[39mself\u001b[39m\u001b[39m.\u001b[39mobj\u001b[39m.\u001b[39m_check_is_chained_assignment_possible()\n\u001b[0;32m   1937\u001b[0m \u001b[39m# actually do the set\u001b[39;00m\n\u001b[1;32m-> 1938\u001b[0m \u001b[39mself\u001b[39m\u001b[39m.\u001b[39mobj\u001b[39m.\u001b[39m_mgr \u001b[39m=\u001b[39m \u001b[39mself\u001b[39;49m\u001b[39m.\u001b[39;49mobj\u001b[39m.\u001b[39;49m_mgr\u001b[39m.\u001b[39;49msetitem(indexer\u001b[39m=\u001b[39;49mindexer, value\u001b[39m=\u001b[39;49mvalue)\n\u001b[0;32m   1939\u001b[0m \u001b[39mself\u001b[39m\u001b[39m.\u001b[39mobj\u001b[39m.\u001b[39m_maybe_update_cacher(clear\u001b[39m=\u001b[39m\u001b[39mTrue\u001b[39;00m, inplace\u001b[39m=\u001b[39m\u001b[39mTrue\u001b[39;00m)\n",
      "File \u001b[1;32mc:\\Users\\vinic\\AppData\\Local\\Programs\\Python\\Python310\\lib\\site-packages\\pandas\\core\\internals\\managers.py:337\u001b[0m, in \u001b[0;36mBaseBlockManager.setitem\u001b[1;34m(self, indexer, value)\u001b[0m\n\u001b[0;32m    331\u001b[0m \u001b[39mdef\u001b[39;00m \u001b[39msetitem\u001b[39m(\u001b[39mself\u001b[39m: T, indexer, value) \u001b[39m-\u001b[39m\u001b[39m>\u001b[39m T:\n\u001b[0;32m    332\u001b[0m     \u001b[39m\"\"\"\u001b[39;00m\n\u001b[0;32m    333\u001b[0m \u001b[39m    Set values with indexer.\u001b[39;00m\n\u001b[0;32m    334\u001b[0m \n\u001b[0;32m    335\u001b[0m \u001b[39m    For SingleBlockManager, this backs s[indexer] = value\u001b[39;00m\n\u001b[0;32m    336\u001b[0m \u001b[39m    \"\"\"\u001b[39;00m\n\u001b[1;32m--> 337\u001b[0m     \u001b[39mreturn\u001b[39;00m \u001b[39mself\u001b[39;49m\u001b[39m.\u001b[39;49mapply(\u001b[39m\"\u001b[39;49m\u001b[39msetitem\u001b[39;49m\u001b[39m\"\u001b[39;49m, indexer\u001b[39m=\u001b[39;49mindexer, value\u001b[39m=\u001b[39;49mvalue)\n",
      "File \u001b[1;32mc:\\Users\\vinic\\AppData\\Local\\Programs\\Python\\Python310\\lib\\site-packages\\pandas\\core\\internals\\managers.py:304\u001b[0m, in \u001b[0;36mBaseBlockManager.apply\u001b[1;34m(self, f, align_keys, ignore_failures, **kwargs)\u001b[0m\n\u001b[0;32m    302\u001b[0m         applied \u001b[39m=\u001b[39m b\u001b[39m.\u001b[39mapply(f, \u001b[39m*\u001b[39m\u001b[39m*\u001b[39mkwargs)\n\u001b[0;32m    303\u001b[0m     \u001b[39melse\u001b[39;00m:\n\u001b[1;32m--> 304\u001b[0m         applied \u001b[39m=\u001b[39m \u001b[39mgetattr\u001b[39m(b, f)(\u001b[39m*\u001b[39m\u001b[39m*\u001b[39mkwargs)\n\u001b[0;32m    305\u001b[0m \u001b[39mexcept\u001b[39;00m (\u001b[39mTypeError\u001b[39;00m, \u001b[39mNotImplementedError\u001b[39;00m):\n\u001b[0;32m    306\u001b[0m     \u001b[39mif\u001b[39;00m \u001b[39mnot\u001b[39;00m ignore_failures:\n",
      "File \u001b[1;32mc:\\Users\\vinic\\AppData\\Local\\Programs\\Python\\Python310\\lib\\site-packages\\pandas\\core\\internals\\blocks.py:959\u001b[0m, in \u001b[0;36mBlock.setitem\u001b[1;34m(self, indexer, value)\u001b[0m\n\u001b[0;32m    957\u001b[0m \u001b[39melse\u001b[39;00m:\n\u001b[0;32m    958\u001b[0m     value \u001b[39m=\u001b[39m setitem_datetimelike_compat(values, \u001b[39mlen\u001b[39m(values[indexer]), value)\n\u001b[1;32m--> 959\u001b[0m     values[indexer] \u001b[39m=\u001b[39m value\n\u001b[0;32m    961\u001b[0m \u001b[39mreturn\u001b[39;00m \u001b[39mself\u001b[39m\n",
      "\u001b[1;31mValueError\u001b[0m: could not broadcast input array from shape (865447,1) into shape (865447,)"
     ]
    }
   ],
   "source": [
    "i = 0\n",
    "linha = 0\n",
    "errors = []\n",
    "\n",
    "if 'accel' in folders[i]:\n",
    "    Dados = pd.DataFrame(columns=['Data', 'N Passagens', 'Direcao', 'Sensor 1', 'Sensor 2', 'Sensor 3', 'Sensor 4', 'Sensor 5'])\n",
    "\n",
    "elif 'gps' in folders[i]:\n",
    "    Dados = pd.DataFrame(columns=['Data', 'N Passagens', 'Direcao', 'Latitude', 'Longitude', 'Altura'])\n",
    "\n",
    "path_sour = path_sources+'\\\\'+folders[i] # entra na pasta com arquivos\n",
    "path_dest = path_destiny+'\\\\'+folders[i] # entra na pasta onde os arquivos serão salvos\n",
    "\n",
    "#mkdir(path_dest) # cria pastas de acordo com o nome da pasta de origem\n",
    "files = listdir(path_sour) # Carrega os nomes dos arquivos dentro da pasta de origem\n",
    "\n",
    "    # Quantidade de linhas no arquivo?\n",
    "\n",
    "\n",
    "n=0\n",
    "\n",
    "j = files[n]\n",
    "\n",
    "props = j.split('_')\n",
    "\n",
    "l = path_sour+'\\\\'+j\n",
    "m = path_dest+'\\\\'+j\n",
    "\n",
    "try:\n",
    "    with h5py.File(l, 'r') as f:\n",
    "        data = np.asarray(f.get('save_var')).T\n",
    "        n_linhas = len(data)\n",
    "\n",
    "except:\n",
    "    try:\n",
    "        data = scipy.io.loadmat(l)\n",
    "        data = np.asarray(data[list(data.keys())[-1]])\n",
    "        \n",
    "    except:\n",
    "        errors.append(l)\n",
    "\n",
    "\n",
    "n_linhas = len(data)\n",
    "# repita a 'Chave', 'Data', 'Direcao', 'N Passagens', 'Sensor 1', 'Sensor 2', 'Sensor 3', 'Sensor 4', 'Sensor 5' n_linhas vezes e depois a \n",
    "# gente joga os dados dos sensores lá\n",
    "\n",
    "# cada linha vai ser uma repetição das de cima\n",
    "if 'accel' in folders[i]:\n",
    "    \n",
    "    df = pd.DataFrame({'Data':[props[1]], 'N Passagens':[props[2]], 'Direcao':[props[3]], 'Sensor 1':[0], 'Sensor 2':[0], 'Sensor 3':[0], 'Sensor 4':[0], 'Sensor 5':[0]})\n",
    "    df_temp = pd.DataFrame(np.repeat(df.values, n_linhas, axis=0))\n",
    "    df_temp.rename(columns = {0:'Data', 1:'N Passagens', 2:'Direcao', 3:'Sensor 1', 4:'Sensor 2', 5:'Sensor 3', 6:'Sensor 4', 7:'Sensor 5'}, inplace=True)\n",
    "    Dados = pd.concat([Dados, df_temp], axis=0, ignore_index=True)\n",
    "    \n",
    "    for k in range(len(Dados.keys())):\n",
    "        if props[-1] in Dados.keys()[k]+'.mat':\n",
    "            Dados.iloc[linha:(linha+n_linhas), k]=data\n",
    "\n",
    "    \n",
    "\n",
    "\n",
    "elif 'gps' in folders[i]:\n",
    "\n",
    "    df = pd.DataFrame({'Data':[props[1]], 'N Passagens':[props[2]], 'Direcao':[props[3]], 'Altura':[0], 'Longitude':[0], 'Altura':[0]})\n",
    "    df_temp = pd.DataFrame(np.repeat(df.values, n_linhas, axis=0))\n",
    "    df_temp.rename(columns = {0:'Data', 1:'N Passagens', 2:'Direcao', 3:'Altura', 4:'Longitude', 5:'Altura'}, inplace=True)\n",
    "    Dados = pd.concat([Dados, df_temp], axis=0, ignore_index=True)\n",
    "\n",
    "    Dados.iloc[linha:(linha+n_linhas), 3:6]=data[:,0:3]\n",
    "    print('--------------------------------------------\\n')\n",
    "    print(Dados.iloc[linha:(linha+n_linhas), 3:6].values)\n",
    "\n",
    "linha = linha+n_linhas\n",
    "\n",
    "\n",
    "\"\"\"\n",
    "for j in range(datas[list(datas.keys())[0]].shape[1]):\n",
    "for i in range(len(datas.keys())):\n",
    "    plt.plot(datas[list(datas.keys())[i]][j])\n",
    "plt.suptitle(f'type:{folders[0]}; column:{j}')\n",
    "plt.show()\n",
    "\n",
    "\n",
    "\n",
    "\n",
    "x = pd.DataFrame(index=['x', 'y'])\n",
    "x['x','z']=np.array([2, 3, 5])\n",
    "\"\"\""
   ]
  },
  {
   "cell_type": "code",
   "execution_count": 61,
   "metadata": {},
   "outputs": [
    {
     "data": {
      "text/plain": [
       "'1.mat'"
      ]
     },
     "execution_count": 61,
     "metadata": {},
     "output_type": "execute_result"
    }
   ],
   "source": [
    "props[-1]"
   ]
  },
  {
   "cell_type": "markdown",
   "metadata": {},
   "source": [
    "### Código"
   ]
  },
  {
   "cell_type": "code",
   "execution_count": 4,
   "metadata": {},
   "outputs": [
    {
     "ename": "KeyboardInterrupt",
     "evalue": "",
     "output_type": "error",
     "traceback": [
      "\u001b[1;31m---------------------------------------------------------------------------\u001b[0m",
      "\u001b[1;31mKeyboardInterrupt\u001b[0m                         Traceback (most recent call last)",
      "    \u001b[1;31m[... skipping hidden 1 frame]\u001b[0m\n",
      "\u001b[1;32mc:\\Users\\vinic\\python_projects\\monitoracao_project\\DataScience_Railway_Dataset\\Trabalho-2022-2.ipynb Célula: 7\u001b[0m in \u001b[0;36m<cell line: 3>\u001b[1;34m()\u001b[0m\n\u001b[0;32m     <a href='vscode-notebook-cell:/c%3A/Users/vinic/python_projects/monitoracao_project/DataScience_Railway_Dataset/Trabalho-2022-2.ipynb#ch0000006?line=58'>59</a>\u001b[0m df_temp\u001b[39m.\u001b[39mrename(columns \u001b[39m=\u001b[39m {\u001b[39m0\u001b[39m:\u001b[39m'\u001b[39m\u001b[39mData\u001b[39m\u001b[39m'\u001b[39m, \u001b[39m1\u001b[39m:\u001b[39m'\u001b[39m\u001b[39mN Passagens\u001b[39m\u001b[39m'\u001b[39m, \u001b[39m2\u001b[39m:\u001b[39m'\u001b[39m\u001b[39mDirecao\u001b[39m\u001b[39m'\u001b[39m, \u001b[39m3\u001b[39m:\u001b[39m'\u001b[39m\u001b[39mSensor 1\u001b[39m\u001b[39m'\u001b[39m, \u001b[39m4\u001b[39m:\u001b[39m'\u001b[39m\u001b[39mSensor 2\u001b[39m\u001b[39m'\u001b[39m, \u001b[39m5\u001b[39m:\u001b[39m'\u001b[39m\u001b[39mSensor 3\u001b[39m\u001b[39m'\u001b[39m, \u001b[39m6\u001b[39m:\u001b[39m'\u001b[39m\u001b[39mSensor 4\u001b[39m\u001b[39m'\u001b[39m, \u001b[39m7\u001b[39m:\u001b[39m'\u001b[39m\u001b[39mSensor 5\u001b[39m\u001b[39m'\u001b[39m}, inplace\u001b[39m=\u001b[39m\u001b[39mTrue\u001b[39;00m)\n\u001b[1;32m---> <a href='vscode-notebook-cell:/c%3A/Users/vinic/python_projects/monitoracao_project/DataScience_Railway_Dataset/Trabalho-2022-2.ipynb#ch0000006?line=59'>60</a>\u001b[0m Dados \u001b[39m=\u001b[39m pd\u001b[39m.\u001b[39;49mconcat([Dados, df_temp], axis\u001b[39m=\u001b[39;49m\u001b[39m0\u001b[39;49m, ignore_index\u001b[39m=\u001b[39;49m\u001b[39mTrue\u001b[39;49;00m)\n\u001b[0;32m     <a href='vscode-notebook-cell:/c%3A/Users/vinic/python_projects/monitoracao_project/DataScience_Railway_Dataset/Trabalho-2022-2.ipynb#ch0000006?line=61'>62</a>\u001b[0m \u001b[39mfor\u001b[39;00m k \u001b[39min\u001b[39;00m \u001b[39mrange\u001b[39m(\u001b[39mlen\u001b[39m(Dados\u001b[39m.\u001b[39mkeys())):\n",
      "File \u001b[1;32mc:\\Users\\vinic\\AppData\\Local\\Programs\\Python\\Python310\\lib\\site-packages\\pandas\\util\\_decorators.py:311\u001b[0m, in \u001b[0;36mdeprecate_nonkeyword_arguments.<locals>.decorate.<locals>.wrapper\u001b[1;34m(*args, **kwargs)\u001b[0m\n\u001b[0;32m    306\u001b[0m     warnings\u001b[39m.\u001b[39mwarn(\n\u001b[0;32m    307\u001b[0m         msg\u001b[39m.\u001b[39mformat(arguments\u001b[39m=\u001b[39marguments),\n\u001b[0;32m    308\u001b[0m         \u001b[39mFutureWarning\u001b[39;00m,\n\u001b[0;32m    309\u001b[0m         stacklevel\u001b[39m=\u001b[39mstacklevel,\n\u001b[0;32m    310\u001b[0m     )\n\u001b[1;32m--> 311\u001b[0m \u001b[39mreturn\u001b[39;00m func(\u001b[39m*\u001b[39margs, \u001b[39m*\u001b[39m\u001b[39m*\u001b[39mkwargs)\n",
      "File \u001b[1;32mc:\\Users\\vinic\\AppData\\Local\\Programs\\Python\\Python310\\lib\\site-packages\\pandas\\core\\reshape\\concat.py:360\u001b[0m, in \u001b[0;36mconcat\u001b[1;34m(objs, axis, join, ignore_index, keys, levels, names, verify_integrity, sort, copy)\u001b[0m\n\u001b[0;32m    347\u001b[0m op \u001b[39m=\u001b[39m _Concatenator(\n\u001b[0;32m    348\u001b[0m     objs,\n\u001b[0;32m    349\u001b[0m     axis\u001b[39m=\u001b[39maxis,\n\u001b[1;32m   (...)\u001b[0m\n\u001b[0;32m    357\u001b[0m     sort\u001b[39m=\u001b[39msort,\n\u001b[0;32m    358\u001b[0m )\n\u001b[1;32m--> 360\u001b[0m \u001b[39mreturn\u001b[39;00m op\u001b[39m.\u001b[39;49mget_result()\n",
      "File \u001b[1;32mc:\\Users\\vinic\\AppData\\Local\\Programs\\Python\\Python310\\lib\\site-packages\\pandas\\core\\reshape\\concat.py:595\u001b[0m, in \u001b[0;36m_Concatenator.get_result\u001b[1;34m(self)\u001b[0m\n\u001b[0;32m    593\u001b[0m     mgrs_indexers\u001b[39m.\u001b[39mappend((obj\u001b[39m.\u001b[39m_mgr, indexers))\n\u001b[1;32m--> 595\u001b[0m new_data \u001b[39m=\u001b[39m concatenate_managers(\n\u001b[0;32m    596\u001b[0m     mgrs_indexers, \u001b[39mself\u001b[39;49m\u001b[39m.\u001b[39;49mnew_axes, concat_axis\u001b[39m=\u001b[39;49m\u001b[39mself\u001b[39;49m\u001b[39m.\u001b[39;49mbm_axis, copy\u001b[39m=\u001b[39;49m\u001b[39mself\u001b[39;49m\u001b[39m.\u001b[39;49mcopy\n\u001b[0;32m    597\u001b[0m )\n\u001b[0;32m    598\u001b[0m \u001b[39mif\u001b[39;00m \u001b[39mnot\u001b[39;00m \u001b[39mself\u001b[39m\u001b[39m.\u001b[39mcopy:\n",
      "File \u001b[1;32mc:\\Users\\vinic\\AppData\\Local\\Programs\\Python\\Python310\\lib\\site-packages\\pandas\\core\\internals\\concat.py:252\u001b[0m, in \u001b[0;36mconcatenate_managers\u001b[1;34m(mgrs_indexers, axes, concat_axis, copy)\u001b[0m\n\u001b[0;32m    250\u001b[0m     blocks\u001b[39m.\u001b[39mappend(b)\n\u001b[1;32m--> 252\u001b[0m \u001b[39mreturn\u001b[39;00m BlockManager(\u001b[39mtuple\u001b[39;49m(blocks), axes)\n",
      "File \u001b[1;32mc:\\Users\\vinic\\AppData\\Local\\Programs\\Python\\Python310\\lib\\site-packages\\pandas\\core\\internals\\managers.py:958\u001b[0m, in \u001b[0;36mBlockManager.__init__\u001b[1;34m(self, blocks, axes, verify_integrity)\u001b[0m\n\u001b[0;32m    956\u001b[0m             \u001b[39mpass\u001b[39;00m\n\u001b[1;32m--> 958\u001b[0m \u001b[39mself\u001b[39;49m\u001b[39m.\u001b[39;49m_verify_integrity()\n",
      "File \u001b[1;32mc:\\Users\\vinic\\AppData\\Local\\Programs\\Python\\Python310\\lib\\site-packages\\pandas\\core\\internals\\managers.py:964\u001b[0m, in \u001b[0;36mBlockManager._verify_integrity\u001b[1;34m(self)\u001b[0m\n\u001b[0;32m    963\u001b[0m \u001b[39mfor\u001b[39;00m block \u001b[39min\u001b[39;00m \u001b[39mself\u001b[39m\u001b[39m.\u001b[39mblocks:\n\u001b[1;32m--> 964\u001b[0m     \u001b[39mif\u001b[39;00m block\u001b[39m.\u001b[39mshape[\u001b[39m1\u001b[39m:] \u001b[39m!=\u001b[39m mgr_shape[\u001b[39m1\u001b[39m:]:\n\u001b[0;32m    965\u001b[0m         \u001b[39mraise\u001b[39;00m construction_error(tot_items, block\u001b[39m.\u001b[39mshape[\u001b[39m1\u001b[39m:], \u001b[39mself\u001b[39m\u001b[39m.\u001b[39maxes)\n",
      "\u001b[1;31mKeyboardInterrupt\u001b[0m: ",
      "\nDuring handling of the above exception, another exception occurred:\n",
      "\u001b[1;31mKeyboardInterrupt\u001b[0m                         Traceback (most recent call last)",
      "File \u001b[1;32mc:\\Users\\vinic\\AppData\\Local\\Programs\\Python\\Python310\\lib\\site-packages\\IPython\\core\\interactiveshell.py:3419\u001b[0m, in \u001b[0;36mInteractiveShell.run_code\u001b[1;34m(self, code_obj, result, async_)\u001b[0m\n\u001b[0;32m   3417\u001b[0m \u001b[39mexcept\u001b[39;00m:\n\u001b[0;32m   3418\u001b[0m     \u001b[39mif\u001b[39;00m result \u001b[39mis\u001b[39;00m \u001b[39mnot\u001b[39;00m \u001b[39mNone\u001b[39;00m:\n\u001b[1;32m-> 3419\u001b[0m         result\u001b[39m.\u001b[39merror_in_exec \u001b[39m=\u001b[39m sys\u001b[39m.\u001b[39;49mexc_info()[\u001b[39m1\u001b[39m]\n\u001b[0;32m   3420\u001b[0m     \u001b[39mself\u001b[39m\u001b[39m.\u001b[39mshowtraceback(running_compiled_code\u001b[39m=\u001b[39m\u001b[39mTrue\u001b[39;00m)\n\u001b[0;32m   3421\u001b[0m \u001b[39melse\u001b[39;00m:\n",
      "\u001b[1;31mKeyboardInterrupt\u001b[0m: "
     ]
    }
   ],
   "source": [
    "errors = [] # Guarda qualquer arquivo que falhou em ser carregado\n",
    "linha = 0\n",
    "for i in range(len(folders)):\n",
    "\n",
    "    if 'accel' in folders[i]:\n",
    "        Dados = pd.DataFrame(columns=['Data', 'N Passagens', 'Direcao', 'Sensor 1', 'Sensor 2', 'Sensor 3', 'Sensor 4', 'Sensor 5'])\n",
    "        name = 'acell'\n",
    "\n",
    "    elif 'gps' in folders[i]:\n",
    "        Dados = pd.DataFrame(columns=['Data', 'N Passagens', 'Direcao', 'Latitude', 'Longitude', 'Altura'])\n",
    "        name = 'gps'\n",
    "\n",
    "    path_sour = path_sources+'\\\\'+folders[i] # entra na pasta com arquivos\n",
    "    path_dest = path_destiny+'\\\\'+folders[i] # entra na pasta onde os arquivos serão salvos\n",
    "\n",
    "    try:\n",
    "        mkdir(path_dest) # cria pastas de acordo com o nome da pasta de origem\n",
    "    except:\n",
    "        pass\n",
    "    \n",
    "    files = listdir(path_sour) # Carrega os nomes dos arquivos dentro da pasta de origem\n",
    "\n",
    "        # Quantidade de linhas no arquivo?\n",
    "\n",
    "\n",
    "    for n in range(len(files)):\n",
    "    \n",
    "        j = files[n]\n",
    "\n",
    "        props = j.split('_')\n",
    "        props[-1] = props[-1][0]\n",
    "\n",
    "        l = path_sour+'\\\\'+j\n",
    "        m = path_dest+'\\\\'+j\n",
    "\n",
    "        try:\n",
    "            with h5py.File(l, 'r') as f:\n",
    "                data = np.asarray(f.get('save_var')).T\n",
    "                n_linhas = len(data)\n",
    "        \n",
    "        except:\n",
    "            try:\n",
    "                data = scipy.io.loadmat(l)\n",
    "                data = np.asarray(data[list(data.keys())[-1]])\n",
    "                \n",
    "            except:\n",
    "                errors.append(l)  \n",
    "\n",
    "\n",
    "        n_linhas = len(data)\n",
    "        # repita a 'Chave', 'Data', 'Direcao', 'N Passagens', 'Sensor 1', 'Sensor 2', 'Sensor 3', 'Sensor 4', 'Sensor 5' n_linhas vezes e depois a \n",
    "        # gente joga os dados dos sensores lá\n",
    "\n",
    "        # cada linha vai ser uma repetição das de cima\n",
    "        if 'accel' in folders[i]:\n",
    "            \n",
    "            df = pd.DataFrame({'Data':[props[1]], 'N Passagens':[props[2]], 'Direcao':[props[3]], 'Sensor 1':[None], 'Sensor 2':[None], 'Sensor 3':[None], 'Sensor 4':[None], 'Sensor 5':[None]})\n",
    "            df_temp = pd.DataFrame(np.repeat(df.values, n_linhas, axis=0))\n",
    "            df_temp.rename(columns = {0:'Data', 1:'N Passagens', 2:'Direcao', 3:'Sensor 1', 4:'Sensor 2', 5:'Sensor 3', 6:'Sensor 4', 7:'Sensor 5'}, inplace=True)\n",
    "            Dados = pd.concat([Dados, df_temp], axis=0, ignore_index=True)\n",
    "            \n",
    "            for k in range(len(Dados.keys())):\n",
    "                if props[-1] in Dados.keys()[k]:\n",
    "                    Dados.iloc[linha:(linha+n_linhas), k]=np.reshape(data, (n_linhas,))\n",
    "\n",
    "            \n",
    "\n",
    "\n",
    "        elif 'gps' in folders[i]:\n",
    "\n",
    "            df = pd.DataFrame({'Data':[props[1]], 'N Passagens':[props[2]], 'Direcao':[props[3]], 'Altura':[None], 'Longitude':[None], 'Altura':[None]})\n",
    "            df_temp = pd.DataFrame\n",
    "            df_temp = pd.DataFrame(np.repeat(df.values, n_linhas, axis=0))\n",
    "            df_temp.rename(columns = {0:'Data', 1:'N Passagens', 2:'Direcao', 3:'Altura', 4:'Longitude', 5:'Altura'}, inplace=True)\n",
    "            Dados = pd.concat([Dados, df_temp], axis=0, ignore_index=True)\n",
    "\n",
    "            Dados.iloc[linha:(linha+n_linhas), 3:6]=data[:,0:3]\n",
    "\n",
    "\n",
    "        linha = linha+n_linhas\n",
    "\n",
    "\n",
    "    Dados.to_parquet(path_dest+'\\\\'+name, engine = 'pyarrow', compression= 'brotli')\n",
    "\n",
    "\n",
    "\"\"\"\n",
    "for j in range(datas[list(datas.keys())[0]].shape[1]):\n",
    "    for i in range(len(datas.keys())):\n",
    "        plt.plot(datas[list(datas.keys())[i]][j])\n",
    "    plt.suptitle(f'type:{folders[0]}; column:{j}')\n",
    "    plt.show()\n",
    "\n",
    "\n",
    "\n",
    "\n",
    "x = pd.DataFrame(index=['x', 'y'])\n",
    "x['x','z']=np.array([2, 3, 5])\n",
    "\"\"\""
   ]
  },
  {
   "cell_type": "markdown",
   "metadata": {},
   "source": [
    "### Alinhamento dos dados"
   ]
  },
  {
   "cell_type": "code",
   "execution_count": null,
   "metadata": {},
   "outputs": [],
   "source": [
    "import dtw\n",
    "\n",
    "\n",
    "## A noisy sine wave as query\n",
    "idx = np.linspace(0,6.28,num=100)\n",
    "query = np.sin(idx) + np.random.uniform(size=100)/10.0\n",
    "\n",
    "## A cosine is for template; sin and cos are offset by 25 samples\n",
    "template = np.cos(idx)\n",
    "\n",
    "## Find the best match with the canonical recursion formula\n",
    "from dtw import *\n",
    "alignment = dtw(query, template, keep_internals=True)\n",
    "\n",
    "## Display the warping curve, i.e. the alignment curve\n",
    "alignment.plot(type=\"threeway\")"
   ]
  },
  {
   "cell_type": "code",
   "execution_count": 5,
   "metadata": {},
   "outputs": [
    {
     "ename": "ArrowMemoryError",
     "evalue": "malloc of size 1139303936 failed",
     "output_type": "error",
     "traceback": [
      "\u001b[1;31m---------------------------------------------------------------------------\u001b[0m",
      "\u001b[1;31mArrowMemoryError\u001b[0m                          Traceback (most recent call last)",
      "\u001b[1;32mc:\\Users\\vinic\\python_projects\\monitoracao_project\\DataScience_Railway_Dataset\\Trabalho-2022-2.ipynb Célula: 10\u001b[0m in \u001b[0;36m<cell line: 1>\u001b[1;34m()\u001b[0m\n\u001b[1;32m----> <a href='vscode-notebook-cell:/c%3A/Users/vinic/python_projects/monitoracao_project/DataScience_Railway_Dataset/Trabalho-2022-2.ipynb#ch0000010?line=0'>1</a>\u001b[0m Dados\u001b[39m.\u001b[39;49mto_parquet(path_dest\u001b[39m+\u001b[39;49m\u001b[39m'\u001b[39;49m\u001b[39m\\\\\u001b[39;49;00m\u001b[39m'\u001b[39;49m\u001b[39m+\u001b[39;49mname, engine \u001b[39m=\u001b[39;49m \u001b[39m'\u001b[39;49m\u001b[39mpyarrow\u001b[39;49m\u001b[39m'\u001b[39;49m, compression\u001b[39m=\u001b[39;49m \u001b[39m'\u001b[39;49m\u001b[39mbrotli\u001b[39;49m\u001b[39m'\u001b[39;49m)\n",
      "File \u001b[1;32mc:\\Users\\vinic\\AppData\\Local\\Programs\\Python\\Python310\\lib\\site-packages\\pandas\\util\\_decorators.py:207\u001b[0m, in \u001b[0;36mdeprecate_kwarg.<locals>._deprecate_kwarg.<locals>.wrapper\u001b[1;34m(*args, **kwargs)\u001b[0m\n\u001b[0;32m    205\u001b[0m     \u001b[39melse\u001b[39;00m:\n\u001b[0;32m    206\u001b[0m         kwargs[new_arg_name] \u001b[39m=\u001b[39m new_arg_value\n\u001b[1;32m--> 207\u001b[0m \u001b[39mreturn\u001b[39;00m func(\u001b[39m*\u001b[39margs, \u001b[39m*\u001b[39m\u001b[39m*\u001b[39mkwargs)\n",
      "File \u001b[1;32mc:\\Users\\vinic\\AppData\\Local\\Programs\\Python\\Python310\\lib\\site-packages\\pandas\\core\\frame.py:2835\u001b[0m, in \u001b[0;36mDataFrame.to_parquet\u001b[1;34m(self, path, engine, compression, index, partition_cols, storage_options, **kwargs)\u001b[0m\n\u001b[0;32m   2749\u001b[0m \u001b[39m\"\"\"\u001b[39;00m\n\u001b[0;32m   2750\u001b[0m \u001b[39mWrite a DataFrame to the binary parquet format.\u001b[39;00m\n\u001b[0;32m   2751\u001b[0m \n\u001b[1;32m   (...)\u001b[0m\n\u001b[0;32m   2831\u001b[0m \u001b[39m>>> content = f.read()\u001b[39;00m\n\u001b[0;32m   2832\u001b[0m \u001b[39m\"\"\"\u001b[39;00m\n\u001b[0;32m   2833\u001b[0m \u001b[39mfrom\u001b[39;00m \u001b[39mpandas\u001b[39;00m\u001b[39m.\u001b[39;00m\u001b[39mio\u001b[39;00m\u001b[39m.\u001b[39;00m\u001b[39mparquet\u001b[39;00m \u001b[39mimport\u001b[39;00m to_parquet\n\u001b[1;32m-> 2835\u001b[0m \u001b[39mreturn\u001b[39;00m to_parquet(\n\u001b[0;32m   2836\u001b[0m     \u001b[39mself\u001b[39m,\n\u001b[0;32m   2837\u001b[0m     path,\n\u001b[0;32m   2838\u001b[0m     engine,\n\u001b[0;32m   2839\u001b[0m     compression\u001b[39m=\u001b[39mcompression,\n\u001b[0;32m   2840\u001b[0m     index\u001b[39m=\u001b[39mindex,\n\u001b[0;32m   2841\u001b[0m     partition_cols\u001b[39m=\u001b[39mpartition_cols,\n\u001b[0;32m   2842\u001b[0m     storage_options\u001b[39m=\u001b[39mstorage_options,\n\u001b[0;32m   2843\u001b[0m     \u001b[39m*\u001b[39m\u001b[39m*\u001b[39mkwargs,\n\u001b[0;32m   2844\u001b[0m )\n",
      "File \u001b[1;32mc:\\Users\\vinic\\AppData\\Local\\Programs\\Python\\Python310\\lib\\site-packages\\pandas\\io\\parquet.py:420\u001b[0m, in \u001b[0;36mto_parquet\u001b[1;34m(df, path, engine, compression, index, storage_options, partition_cols, **kwargs)\u001b[0m\n\u001b[0;32m    416\u001b[0m impl \u001b[39m=\u001b[39m get_engine(engine)\n\u001b[0;32m    418\u001b[0m path_or_buf: FilePath \u001b[39m|\u001b[39m WriteBuffer[\u001b[39mbytes\u001b[39m] \u001b[39m=\u001b[39m io\u001b[39m.\u001b[39mBytesIO() \u001b[39mif\u001b[39;00m path \u001b[39mis\u001b[39;00m \u001b[39mNone\u001b[39;00m \u001b[39melse\u001b[39;00m path\n\u001b[1;32m--> 420\u001b[0m impl\u001b[39m.\u001b[39mwrite(\n\u001b[0;32m    421\u001b[0m     df,\n\u001b[0;32m    422\u001b[0m     path_or_buf,\n\u001b[0;32m    423\u001b[0m     compression\u001b[39m=\u001b[39mcompression,\n\u001b[0;32m    424\u001b[0m     index\u001b[39m=\u001b[39mindex,\n\u001b[0;32m    425\u001b[0m     partition_cols\u001b[39m=\u001b[39mpartition_cols,\n\u001b[0;32m    426\u001b[0m     storage_options\u001b[39m=\u001b[39mstorage_options,\n\u001b[0;32m    427\u001b[0m     \u001b[39m*\u001b[39m\u001b[39m*\u001b[39mkwargs,\n\u001b[0;32m    428\u001b[0m )\n\u001b[0;32m    430\u001b[0m \u001b[39mif\u001b[39;00m path \u001b[39mis\u001b[39;00m \u001b[39mNone\u001b[39;00m:\n\u001b[0;32m    431\u001b[0m     \u001b[39massert\u001b[39;00m \u001b[39misinstance\u001b[39m(path_or_buf, io\u001b[39m.\u001b[39mBytesIO)\n",
      "File \u001b[1;32mc:\\Users\\vinic\\AppData\\Local\\Programs\\Python\\Python310\\lib\\site-packages\\pandas\\io\\parquet.py:174\u001b[0m, in \u001b[0;36mPyArrowImpl.write\u001b[1;34m(self, df, path, compression, index, storage_options, partition_cols, **kwargs)\u001b[0m\n\u001b[0;32m    171\u001b[0m \u001b[39mif\u001b[39;00m index \u001b[39mis\u001b[39;00m \u001b[39mnot\u001b[39;00m \u001b[39mNone\u001b[39;00m:\n\u001b[0;32m    172\u001b[0m     from_pandas_kwargs[\u001b[39m\"\u001b[39m\u001b[39mpreserve_index\u001b[39m\u001b[39m\"\u001b[39m] \u001b[39m=\u001b[39m index\n\u001b[1;32m--> 174\u001b[0m table \u001b[39m=\u001b[39m \u001b[39mself\u001b[39m\u001b[39m.\u001b[39mapi\u001b[39m.\u001b[39mTable\u001b[39m.\u001b[39mfrom_pandas(df, \u001b[39m*\u001b[39m\u001b[39m*\u001b[39mfrom_pandas_kwargs)\n\u001b[0;32m    176\u001b[0m path_or_handle, handles, kwargs[\u001b[39m\"\u001b[39m\u001b[39mfilesystem\u001b[39m\u001b[39m\"\u001b[39m] \u001b[39m=\u001b[39m _get_path_or_handle(\n\u001b[0;32m    177\u001b[0m     path,\n\u001b[0;32m    178\u001b[0m     kwargs\u001b[39m.\u001b[39mpop(\u001b[39m\"\u001b[39m\u001b[39mfilesystem\u001b[39m\u001b[39m\"\u001b[39m, \u001b[39mNone\u001b[39;00m),\n\u001b[1;32m   (...)\u001b[0m\n\u001b[0;32m    181\u001b[0m     is_dir\u001b[39m=\u001b[39mpartition_cols \u001b[39mis\u001b[39;00m \u001b[39mnot\u001b[39;00m \u001b[39mNone\u001b[39;00m,\n\u001b[0;32m    182\u001b[0m )\n\u001b[0;32m    183\u001b[0m \u001b[39mtry\u001b[39;00m:\n",
      "File \u001b[1;32mc:\\Users\\vinic\\AppData\\Local\\Programs\\Python\\Python310\\lib\\site-packages\\pyarrow\\table.pxi:3457\u001b[0m, in \u001b[0;36mpyarrow.lib.Table.from_pandas\u001b[1;34m()\u001b[0m\n",
      "File \u001b[1;32mc:\\Users\\vinic\\AppData\\Local\\Programs\\Python\\Python310\\lib\\site-packages\\pyarrow\\pandas_compat.py:607\u001b[0m, in \u001b[0;36mdataframe_to_arrays\u001b[1;34m(df, schema, preserve_index, nthreads, columns, safe)\u001b[0m\n\u001b[0;32m    605\u001b[0m     \u001b[39mfor\u001b[39;00m i, maybe_fut \u001b[39min\u001b[39;00m \u001b[39menumerate\u001b[39m(arrays):\n\u001b[0;32m    606\u001b[0m         \u001b[39mif\u001b[39;00m \u001b[39misinstance\u001b[39m(maybe_fut, futures\u001b[39m.\u001b[39mFuture):\n\u001b[1;32m--> 607\u001b[0m             arrays[i] \u001b[39m=\u001b[39m maybe_fut\u001b[39m.\u001b[39;49mresult()\n\u001b[0;32m    609\u001b[0m types \u001b[39m=\u001b[39m [x\u001b[39m.\u001b[39mtype \u001b[39mfor\u001b[39;00m x \u001b[39min\u001b[39;00m arrays]\n\u001b[0;32m    611\u001b[0m \u001b[39mif\u001b[39;00m schema \u001b[39mis\u001b[39;00m \u001b[39mNone\u001b[39;00m:\n",
      "File \u001b[1;32mc:\\Users\\vinic\\AppData\\Local\\Programs\\Python\\Python310\\lib\\concurrent\\futures\\_base.py:439\u001b[0m, in \u001b[0;36mFuture.result\u001b[1;34m(self, timeout)\u001b[0m\n\u001b[0;32m    437\u001b[0m     \u001b[39mraise\u001b[39;00m CancelledError()\n\u001b[0;32m    438\u001b[0m \u001b[39melif\u001b[39;00m \u001b[39mself\u001b[39m\u001b[39m.\u001b[39m_state \u001b[39m==\u001b[39m FINISHED:\n\u001b[1;32m--> 439\u001b[0m     \u001b[39mreturn\u001b[39;00m \u001b[39mself\u001b[39;49m\u001b[39m.\u001b[39;49m__get_result()\n\u001b[0;32m    441\u001b[0m \u001b[39mself\u001b[39m\u001b[39m.\u001b[39m_condition\u001b[39m.\u001b[39mwait(timeout)\n\u001b[0;32m    443\u001b[0m \u001b[39mif\u001b[39;00m \u001b[39mself\u001b[39m\u001b[39m.\u001b[39m_state \u001b[39min\u001b[39;00m [CANCELLED, CANCELLED_AND_NOTIFIED]:\n",
      "File \u001b[1;32mc:\\Users\\vinic\\AppData\\Local\\Programs\\Python\\Python310\\lib\\concurrent\\futures\\_base.py:391\u001b[0m, in \u001b[0;36mFuture.__get_result\u001b[1;34m(self)\u001b[0m\n\u001b[0;32m    389\u001b[0m \u001b[39mif\u001b[39;00m \u001b[39mself\u001b[39m\u001b[39m.\u001b[39m_exception:\n\u001b[0;32m    390\u001b[0m     \u001b[39mtry\u001b[39;00m:\n\u001b[1;32m--> 391\u001b[0m         \u001b[39mraise\u001b[39;00m \u001b[39mself\u001b[39m\u001b[39m.\u001b[39m_exception\n\u001b[0;32m    392\u001b[0m     \u001b[39mfinally\u001b[39;00m:\n\u001b[0;32m    393\u001b[0m         \u001b[39m# Break a reference cycle with the exception in self._exception\u001b[39;00m\n\u001b[0;32m    394\u001b[0m         \u001b[39mself\u001b[39m \u001b[39m=\u001b[39m \u001b[39mNone\u001b[39;00m\n",
      "File \u001b[1;32mc:\\Users\\vinic\\AppData\\Local\\Programs\\Python\\Python310\\lib\\concurrent\\futures\\thread.py:58\u001b[0m, in \u001b[0;36m_WorkItem.run\u001b[1;34m(self)\u001b[0m\n\u001b[0;32m     55\u001b[0m     \u001b[39mreturn\u001b[39;00m\n\u001b[0;32m     57\u001b[0m \u001b[39mtry\u001b[39;00m:\n\u001b[1;32m---> 58\u001b[0m     result \u001b[39m=\u001b[39m \u001b[39mself\u001b[39m\u001b[39m.\u001b[39mfn(\u001b[39m*\u001b[39m\u001b[39mself\u001b[39m\u001b[39m.\u001b[39margs, \u001b[39m*\u001b[39m\u001b[39m*\u001b[39m\u001b[39mself\u001b[39m\u001b[39m.\u001b[39mkwargs)\n\u001b[0;32m     59\u001b[0m \u001b[39mexcept\u001b[39;00m \u001b[39mBaseException\u001b[39;00m \u001b[39mas\u001b[39;00m exc:\n\u001b[0;32m     60\u001b[0m     \u001b[39mself\u001b[39m\u001b[39m.\u001b[39mfuture\u001b[39m.\u001b[39mset_exception(exc)\n",
      "File \u001b[1;32mc:\\Users\\vinic\\AppData\\Local\\Programs\\Python\\Python310\\lib\\site-packages\\pyarrow\\pandas_compat.py:575\u001b[0m, in \u001b[0;36mdataframe_to_arrays.<locals>.convert_column\u001b[1;34m(col, field)\u001b[0m\n\u001b[0;32m    572\u001b[0m     type_ \u001b[39m=\u001b[39m field\u001b[39m.\u001b[39mtype\n\u001b[0;32m    574\u001b[0m \u001b[39mtry\u001b[39;00m:\n\u001b[1;32m--> 575\u001b[0m     result \u001b[39m=\u001b[39m pa\u001b[39m.\u001b[39;49marray(col, \u001b[39mtype\u001b[39;49m\u001b[39m=\u001b[39;49mtype_, from_pandas\u001b[39m=\u001b[39;49m\u001b[39mTrue\u001b[39;49;00m, safe\u001b[39m=\u001b[39;49msafe)\n\u001b[0;32m    576\u001b[0m \u001b[39mexcept\u001b[39;00m (pa\u001b[39m.\u001b[39mArrowInvalid,\n\u001b[0;32m    577\u001b[0m         pa\u001b[39m.\u001b[39mArrowNotImplementedError,\n\u001b[0;32m    578\u001b[0m         pa\u001b[39m.\u001b[39mArrowTypeError) \u001b[39mas\u001b[39;00m e:\n\u001b[0;32m    579\u001b[0m     e\u001b[39m.\u001b[39margs \u001b[39m+\u001b[39m\u001b[39m=\u001b[39m (\u001b[39m\"\u001b[39m\u001b[39mConversion failed for column \u001b[39m\u001b[39m{!s}\u001b[39;00m\u001b[39m with type \u001b[39m\u001b[39m{!s}\u001b[39;00m\u001b[39m\"\u001b[39m\n\u001b[0;32m    580\u001b[0m                \u001b[39m.\u001b[39mformat(col\u001b[39m.\u001b[39mname, col\u001b[39m.\u001b[39mdtype),)\n",
      "File \u001b[1;32mc:\\Users\\vinic\\AppData\\Local\\Programs\\Python\\Python310\\lib\\site-packages\\pyarrow\\array.pxi:312\u001b[0m, in \u001b[0;36mpyarrow.lib.array\u001b[1;34m()\u001b[0m\n",
      "File \u001b[1;32mc:\\Users\\vinic\\AppData\\Local\\Programs\\Python\\Python310\\lib\\site-packages\\pyarrow\\array.pxi:83\u001b[0m, in \u001b[0;36mpyarrow.lib._ndarray_to_array\u001b[1;34m()\u001b[0m\n",
      "File \u001b[1;32mc:\\Users\\vinic\\AppData\\Local\\Programs\\Python\\Python310\\lib\\site-packages\\pyarrow\\error.pxi:117\u001b[0m, in \u001b[0;36mpyarrow.lib.check_status\u001b[1;34m()\u001b[0m\n",
      "\u001b[1;31mArrowMemoryError\u001b[0m: malloc of size 1139303936 failed"
     ]
    }
   ],
   "source": [
    "Dados.to_parquet(path_dest+'\\\\'+name, engine = 'pyarrow', compression= 'brotli')"
   ]
  }
 ],
 "metadata": {
  "kernelspec": {
   "display_name": "Python 3.10.5 64-bit",
   "language": "python",
   "name": "python3"
  },
  "language_info": {
   "codemirror_mode": {
    "name": "ipython",
    "version": 3
   },
   "file_extension": ".py",
   "mimetype": "text/x-python",
   "name": "python",
   "nbconvert_exporter": "python",
   "pygments_lexer": "ipython3",
   "version": "3.10.5"
  },
  "orig_nbformat": 4,
  "vscode": {
   "interpreter": {
    "hash": "735fd90a47749e3d8aef9bbc1d196bfbcc60e5c47746d2d32e6f03ac88616da3"
   }
  }
 },
 "nbformat": 4,
 "nbformat_minor": 2
}
