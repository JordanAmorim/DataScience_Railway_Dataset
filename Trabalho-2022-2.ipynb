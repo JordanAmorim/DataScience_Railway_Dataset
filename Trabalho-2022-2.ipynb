{
 "cells": [
  {
   "cell_type": "code",
   "execution_count": 1,
   "metadata": {},
   "outputs": [],
   "source": [
    "import pandas as pd\n",
    "from glob import glob\n",
    "import matplotlib.pyplot as plt\n",
    "import h5py\n",
    "import numpy as np\n",
    "import scipy.io\n",
    "from os import listdir\n",
    "from os import mkdir"
   ]
  },
  {
   "cell_type": "code",
   "execution_count": 23,
   "metadata": {},
   "outputs": [],
   "source": [
    "\"\"\"Pasta de origem dos dados e pasta de destino para os dados trabalhados\"\"\"\n",
    "path_sources = r'C:\\Users\\vinic\\python_projects\\monitoracao_project\\dados'\n",
    "path_destiny = r'C:\\Users\\vinic\\python_projects\\monitoracao_project\\dados_parquet'\n",
    "\n",
    "folders = [listdir(path_sources)[0]] # Lembrar de tirar o [0] quando for rodar tudo\n",
    "# folders = [folders[0]] # teste com uma pasta só\n",
    "# print(folders)"
   ]
  },
  {
   "cell_type": "code",
   "execution_count": 51,
   "metadata": {},
   "outputs": [
    {
     "data": {
      "text/html": [
       "<div>\n",
       "<style scoped>\n",
       "    .dataframe tbody tr th:only-of-type {\n",
       "        vertical-align: middle;\n",
       "    }\n",
       "\n",
       "    .dataframe tbody tr th {\n",
       "        vertical-align: top;\n",
       "    }\n",
       "\n",
       "    .dataframe thead th {\n",
       "        text-align: right;\n",
       "    }\n",
       "</style>\n",
       "<table border=\"1\" class=\"dataframe\">\n",
       "  <thead>\n",
       "    <tr style=\"text-align: right;\">\n",
       "      <th></th>\n",
       "      <th>0</th>\n",
       "    </tr>\n",
       "  </thead>\n",
       "  <tbody>\n",
       "    <tr>\n",
       "      <th>0</th>\n",
       "      <td>20140911</td>\n",
       "    </tr>\n",
       "    <tr>\n",
       "      <th>1</th>\n",
       "      <td>20140911</td>\n",
       "    </tr>\n",
       "    <tr>\n",
       "      <th>2</th>\n",
       "      <td>20140911</td>\n",
       "    </tr>\n",
       "    <tr>\n",
       "      <th>3</th>\n",
       "      <td>20140911</td>\n",
       "    </tr>\n",
       "    <tr>\n",
       "      <th>4</th>\n",
       "      <td>20140911</td>\n",
       "    </tr>\n",
       "    <tr>\n",
       "      <th>...</th>\n",
       "      <td>...</td>\n",
       "    </tr>\n",
       "    <tr>\n",
       "      <th>2140489</th>\n",
       "      <td>1</td>\n",
       "    </tr>\n",
       "    <tr>\n",
       "      <th>2140490</th>\n",
       "      <td>1</td>\n",
       "    </tr>\n",
       "    <tr>\n",
       "      <th>2140491</th>\n",
       "      <td>1</td>\n",
       "    </tr>\n",
       "    <tr>\n",
       "      <th>2140492</th>\n",
       "      <td>1</td>\n",
       "    </tr>\n",
       "    <tr>\n",
       "      <th>2140493</th>\n",
       "      <td>1</td>\n",
       "    </tr>\n",
       "  </tbody>\n",
       "</table>\n",
       "<p>2140494 rows × 1 columns</p>\n",
       "</div>"
      ],
      "text/plain": [
       "                0\n",
       "0        20140911\n",
       "1        20140911\n",
       "2        20140911\n",
       "3        20140911\n",
       "4        20140911\n",
       "...           ...\n",
       "2140489         1\n",
       "2140490         1\n",
       "2140491         1\n",
       "2140492         1\n",
       "2140493         1\n",
       "\n",
       "[2140494 rows x 1 columns]"
      ]
     },
     "execution_count": 51,
     "metadata": {},
     "output_type": "execute_result"
    }
   ],
   "source": [
    "n = 0\n",
    "linha = 0\n",
    "j = files[n]\n",
    "\n",
    "props = j.split('_')\n",
    "\n",
    "l = path_sour+'\\\\'+j\n",
    "m = path_dest+'\\\\'+j\n",
    "\n",
    "with h5py.File(l, 'r') as f:\n",
    "    data = np.asarray(f.get('save_var')).T\n",
    "    n_linhas = len(data)\n",
    "    \n",
    "\n",
    "# repita a 'Chave', 'Data', 'Direcao', 'N Passagens', 'Sensor 1', 'Sensor 2', 'Sensor 3', 'Sensor 4', 'Sensor 5' n_linhas vezes e depois a \n",
    "# gente joga os dados dos sensores lá\n",
    "\n",
    "# cada linha vai ser uma repetição das de cima\n",
    "#chaves = np.asarray(range(n_linhas)).T\n",
    "#Dados_Acell[linha:linha+n_linhas,1:3] = np.repeat(np.asarray([props[1], props[2], props[3]]), n_linhas, axis=0) \n",
    "#newdf = pd.DataFrame(np.repeat(df.values, 3, axis=0))\n",
    "test = 0\n",
    "test = pd.DataFrame(np.repeat(np.asarray([props[1], props[2], props[3]]), 10, axis=0))\n",
    "test\n",
    "\n",
    "#linha = linha + n_linhas"
   ]
  },
  {
   "cell_type": "code",
   "execution_count": 53,
   "metadata": {},
   "outputs": [
    {
     "data": {
      "text/plain": [
       "['20140911', '1', '1']"
      ]
     },
     "execution_count": 53,
     "metadata": {},
     "output_type": "execute_result"
    }
   ],
   "source": [
    "[props[1], props[2], props[3]]"
   ]
  },
  {
   "cell_type": "code",
   "execution_count": 55,
   "metadata": {},
   "outputs": [
    {
     "data": {
      "text/plain": [
       "int"
      ]
     },
     "execution_count": 55,
     "metadata": {},
     "output_type": "execute_result"
    }
   ],
   "source": [
    "type(list(test)[0])"
   ]
  },
  {
   "cell_type": "code",
   "execution_count": 64,
   "metadata": {},
   "outputs": [
    {
     "data": {
      "text/plain": [
       "array([['teste', 2]], dtype=object)"
      ]
     },
     "execution_count": 64,
     "metadata": {},
     "output_type": "execute_result"
    }
   ],
   "source": [
    "df = pd.DataFrame(['teste', 2]).T\n",
    "df.values"
   ]
  },
  {
   "cell_type": "code",
   "execution_count": 66,
   "metadata": {},
   "outputs": [],
   "source": [
    "df = pd.DataFrame([props[1], props[2], props[3]]).T\n",
    "df_temp = pd.DataFrame(np.repeat(df.values, n_linhas, axis=0))"
   ]
  },
  {
   "cell_type": "code",
   "execution_count": 68,
   "metadata": {},
   "outputs": [
    {
     "data": {
      "text/plain": [
       "713498"
      ]
     },
     "execution_count": 68,
     "metadata": {},
     "output_type": "execute_result"
    }
   ],
   "source": [
    "n_linhas"
   ]
  },
  {
   "cell_type": "code",
   "execution_count": 67,
   "metadata": {},
   "outputs": [
    {
     "data": {
      "text/html": [
       "<div>\n",
       "<style scoped>\n",
       "    .dataframe tbody tr th:only-of-type {\n",
       "        vertical-align: middle;\n",
       "    }\n",
       "\n",
       "    .dataframe tbody tr th {\n",
       "        vertical-align: top;\n",
       "    }\n",
       "\n",
       "    .dataframe thead th {\n",
       "        text-align: right;\n",
       "    }\n",
       "</style>\n",
       "<table border=\"1\" class=\"dataframe\">\n",
       "  <thead>\n",
       "    <tr style=\"text-align: right;\">\n",
       "      <th></th>\n",
       "      <th>0</th>\n",
       "      <th>1</th>\n",
       "      <th>2</th>\n",
       "    </tr>\n",
       "  </thead>\n",
       "  <tbody>\n",
       "    <tr>\n",
       "      <th>0</th>\n",
       "      <td>20140911</td>\n",
       "      <td>1</td>\n",
       "      <td>1</td>\n",
       "    </tr>\n",
       "    <tr>\n",
       "      <th>1</th>\n",
       "      <td>20140911</td>\n",
       "      <td>1</td>\n",
       "      <td>1</td>\n",
       "    </tr>\n",
       "    <tr>\n",
       "      <th>2</th>\n",
       "      <td>20140911</td>\n",
       "      <td>1</td>\n",
       "      <td>1</td>\n",
       "    </tr>\n",
       "    <tr>\n",
       "      <th>3</th>\n",
       "      <td>20140911</td>\n",
       "      <td>1</td>\n",
       "      <td>1</td>\n",
       "    </tr>\n",
       "    <tr>\n",
       "      <th>4</th>\n",
       "      <td>20140911</td>\n",
       "      <td>1</td>\n",
       "      <td>1</td>\n",
       "    </tr>\n",
       "    <tr>\n",
       "      <th>...</th>\n",
       "      <td>...</td>\n",
       "      <td>...</td>\n",
       "      <td>...</td>\n",
       "    </tr>\n",
       "    <tr>\n",
       "      <th>713493</th>\n",
       "      <td>20140911</td>\n",
       "      <td>1</td>\n",
       "      <td>1</td>\n",
       "    </tr>\n",
       "    <tr>\n",
       "      <th>713494</th>\n",
       "      <td>20140911</td>\n",
       "      <td>1</td>\n",
       "      <td>1</td>\n",
       "    </tr>\n",
       "    <tr>\n",
       "      <th>713495</th>\n",
       "      <td>20140911</td>\n",
       "      <td>1</td>\n",
       "      <td>1</td>\n",
       "    </tr>\n",
       "    <tr>\n",
       "      <th>713496</th>\n",
       "      <td>20140911</td>\n",
       "      <td>1</td>\n",
       "      <td>1</td>\n",
       "    </tr>\n",
       "    <tr>\n",
       "      <th>713497</th>\n",
       "      <td>20140911</td>\n",
       "      <td>1</td>\n",
       "      <td>1</td>\n",
       "    </tr>\n",
       "  </tbody>\n",
       "</table>\n",
       "<p>713498 rows × 3 columns</p>\n",
       "</div>"
      ],
      "text/plain": [
       "               0  1  2\n",
       "0       20140911  1  1\n",
       "1       20140911  1  1\n",
       "2       20140911  1  1\n",
       "3       20140911  1  1\n",
       "4       20140911  1  1\n",
       "...          ... .. ..\n",
       "713493  20140911  1  1\n",
       "713494  20140911  1  1\n",
       "713495  20140911  1  1\n",
       "713496  20140911  1  1\n",
       "713497  20140911  1  1\n",
       "\n",
       "[713498 rows x 3 columns]"
      ]
     },
     "execution_count": 67,
     "metadata": {},
     "output_type": "execute_result"
    }
   ],
   "source": [
    "df_temp"
   ]
  },
  {
   "cell_type": "code",
   "execution_count": 83,
   "metadata": {},
   "outputs": [],
   "source": [
    "Dados_Acell = pd.DataFrame(columns=['Chave', 'Data', 'N Passagens', 'Direcao', 'Sensor 1', 'Sensor 2', 'Sensor 3', 'Sensor 4', 'Sensor 5'])\n",
    "# Dados_Gps = pd.DataFrame\n",
    "#x = Dados_Acell.iloc['Data'==data_x]"
   ]
  },
  {
   "cell_type": "code",
   "execution_count": 86,
   "metadata": {},
   "outputs": [
    {
     "data": {
      "text/html": [
       "<div>\n",
       "<style scoped>\n",
       "    .dataframe tbody tr th:only-of-type {\n",
       "        vertical-align: middle;\n",
       "    }\n",
       "\n",
       "    .dataframe tbody tr th {\n",
       "        vertical-align: top;\n",
       "    }\n",
       "\n",
       "    .dataframe thead th {\n",
       "        text-align: right;\n",
       "    }\n",
       "</style>\n",
       "<table border=\"1\" class=\"dataframe\">\n",
       "  <thead>\n",
       "    <tr style=\"text-align: right;\">\n",
       "      <th></th>\n",
       "      <th>Chave</th>\n",
       "      <th>Data</th>\n",
       "      <th>N Passagens</th>\n",
       "      <th>Direcao</th>\n",
       "      <th>Sensor 1</th>\n",
       "      <th>Sensor 2</th>\n",
       "      <th>Sensor 3</th>\n",
       "      <th>Sensor 4</th>\n",
       "      <th>Sensor 5</th>\n",
       "    </tr>\n",
       "  </thead>\n",
       "  <tbody>\n",
       "    <tr>\n",
       "      <th>2</th>\n",
       "      <td>NaN</td>\n",
       "      <td>3</td>\n",
       "      <td>NaN</td>\n",
       "      <td>NaN</td>\n",
       "      <td>NaN</td>\n",
       "      <td>NaN</td>\n",
       "      <td>NaN</td>\n",
       "      <td>NaN</td>\n",
       "      <td>NaN</td>\n",
       "    </tr>\n",
       "    <tr>\n",
       "      <th>5</th>\n",
       "      <td>NaN</td>\n",
       "      <td>3</td>\n",
       "      <td>NaN</td>\n",
       "      <td>NaN</td>\n",
       "      <td>NaN</td>\n",
       "      <td>NaN</td>\n",
       "      <td>NaN</td>\n",
       "      <td>NaN</td>\n",
       "      <td>NaN</td>\n",
       "    </tr>\n",
       "  </tbody>\n",
       "</table>\n",
       "</div>"
      ],
      "text/plain": [
       "  Chave Data N Passagens Direcao Sensor 1 Sensor 2 Sensor 3 Sensor 4 Sensor 5\n",
       "2   NaN    3         NaN     NaN      NaN      NaN      NaN      NaN      NaN\n",
       "5   NaN    3         NaN     NaN      NaN      NaN      NaN      NaN      NaN"
      ]
     },
     "execution_count": 86,
     "metadata": {},
     "output_type": "execute_result"
    }
   ],
   "source": [
    "Dados_Acell.loc[5,'Data'] = 3\n",
    "Dados_Acell"
   ]
  },
  {
   "cell_type": "code",
   "execution_count": null,
   "metadata": {},
   "outputs": [],
   "source": [
    "errors = [] # Guarda qualquer arquivo que falhou em ser carregado\n",
    "linha = 0\n",
    "for i in range(len(path_sources)):\n",
    "\n",
    "    path_sour = path_sources+'\\\\'+folders[i] # entra na pasta com arquivos\n",
    "    path_dest = path_destiny+'\\\\'+folders[i] # entra na pasta onde os arquivos serão salvos\n",
    "\n",
    "    mkdir(path_dest) # cria pastas de acordo com o nome da pasta de origem\n",
    "    files = listdir(path_sour) # Carrega os nomes dos arquivos dentro da pasta de origem\n",
    "\n",
    "        # Quantidade de linhas no arquivo?\n",
    "\n",
    "\n",
    "    for n in range(len(files)):\n",
    "\n",
    "        j = files[n]\n",
    "\n",
    "        props = j.split('_')\n",
    "\n",
    "        l = path_sour+'\\\\'+j\n",
    "        m = path_dest+'\\\\'+j\n",
    "\n",
    "        try:\n",
    "            with h5py.File(l, 'r') as f:\n",
    "                data = np.asarray(f.get('save_var')).T\n",
    "                n_linhas = len(data)\n",
    "                \n",
    "\n",
    "                # repita a 'Chave', 'Data', 'Direcao', 'N Passagens', 'Sensor 1', 'Sensor 2', 'Sensor 3', 'Sensor 4', 'Sensor 5' n_linhas vezes e depois a \n",
    "                # gente joga os dados dos sensores lá\n",
    "                \n",
    "                # cada linha vai ser uma repetição das de cima\n",
    "                chaves = np.asarray(range(n_linhas)).T\n",
    "\n",
    "                df = pd.DataFrame([props[1], props[2], props[3]]).T\n",
    "                df_temp = pd.DataFrame(np.repeat(df.values, n_linhas, axis=0))\n",
    "\n",
    "                Dados_Acell[linha:linha+n_linhas,1:3] = df_temp.values\n",
    "                #newdf = pd.DataFrame(np.repeat(df.values, 3, axis=0))\n",
    "\n",
    "                linha = linha + n_linhas\n",
    "\n",
    "                #data = pd.DataFrame(np.asarray(data).T)\n",
    "                #datas[j]=data\n",
    "                #data.to_csv(m[:-4]+'.csv', index=False, header=False)\n",
    "\n",
    "                if 'accel' in path_sources[i]:\n",
    "                    alldatas[props[1], props[3], props[5], props[6]] = data\n",
    "\n",
    "                elif 'gps' in path_sources[i]:\n",
    "                    alldatas[props[1], props[3], props[5], '1'] = data[:, 0]\n",
    "                    alldatas[props[1], props[3], props[5], '2'] = data[:, 1]\n",
    "                    alldatas[props[1], props[3], props[5], '3'] = data[:, 2]\n",
    "                    alldatas[props[1], props[3], props[5], '4'] = data[:, 3]\n",
    "                    alldatas[props[1], props[3], props[5], '5'] = data[:, 4]\n",
    "        \n",
    "        except:\n",
    "            try:\n",
    "                data = scipy.io.loadmat(l)\n",
    "                data = np.asarray(data[list(data.keys())[-1]])\n",
    "                # datas[j]=data\n",
    "                #data.to_csv(m[:-4]+'.csv', index=False, header=False)\n",
    "\n",
    "                if 'accel' in path_sources[i]:\n",
    "                    alldatas[props[1], props[3], props[5], props[6]] = data\n",
    "\n",
    "                elif 'gps' in path_sources[i]:\n",
    "                    alldatas[props[1], props[3], props[5], '1'] = data[:, 0]\n",
    "                    alldatas[props[1], props[3], props[5], '2'] = data[:, 1]\n",
    "                    alldatas[props[1], props[3], props[5], '3'] = data[:, 2]\n",
    "                    alldatas[props[1], props[3], props[5], '4'] = data[:, 3]\n",
    "                    alldatas[props[1], props[3], props[5], '5'] = data[:, 4]\n",
    "                \n",
    "            except:\n",
    "                errors.append(l)  \n",
    "\n",
    "    alldatas.to_parquet(path_dest)\n",
    "\n",
    "\n",
    "\"\"\"\n",
    "for j in range(datas[list(datas.keys())[0]].shape[1]):\n",
    "    for i in range(len(datas.keys())):\n",
    "        plt.plot(datas[list(datas.keys())[i]][j])\n",
    "    plt.suptitle(f'type:{folders[0]}; column:{j}')\n",
    "    plt.show()\n",
    "\n",
    "\n",
    "\n",
    "\n",
    "x = pd.DataFrame(index=['x', 'y'])\n",
    "x['x','z']=np.array([2, 3, 5])\n",
    "\"\"\""
   ]
  },
  {
   "cell_type": "code",
   "execution_count": null,
   "metadata": {},
   "outputs": [],
   "source": [
    "#Criando dataFrames para cada arquivo\n",
    "dataFrames = []"
   ]
  },
  {
   "cell_type": "code",
   "execution_count": null,
   "metadata": {},
   "outputs": [],
   "source": [
    "#Unindo dataframes em um único"
   ]
  }
 ],
 "metadata": {
  "kernelspec": {
   "display_name": "Python 3.10.5 64-bit",
   "language": "python",
   "name": "python3"
  },
  "language_info": {
   "codemirror_mode": {
    "name": "ipython",
    "version": 3
   },
   "file_extension": ".py",
   "mimetype": "text/x-python",
   "name": "python",
   "nbconvert_exporter": "python",
   "pygments_lexer": "ipython3",
   "version": "3.10.5"
  },
  "orig_nbformat": 4,
  "vscode": {
   "interpreter": {
    "hash": "735fd90a47749e3d8aef9bbc1d196bfbcc60e5c47746d2d32e6f03ac88616da3"
   }
  }
 },
 "nbformat": 4,
 "nbformat_minor": 2
}
