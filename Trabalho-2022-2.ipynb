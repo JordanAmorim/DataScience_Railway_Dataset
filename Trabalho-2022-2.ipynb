{
 "cells": [
  {
   "cell_type": "code",
   "execution_count": 37,
   "metadata": {},
   "outputs": [],
   "source": [
    "import pandas as pd\n",
    "from glob import glob\n",
    "import matplotlib.pyplot as plt\n",
    "import h5py\n",
    "import numpy as np\n",
    "import scipy.io\n",
    "from os import listdir\n",
    "from os import mkdir"
   ]
  },
  {
   "cell_type": "code",
   "execution_count": 38,
   "metadata": {},
   "outputs": [],
   "source": [
    "\"\"\"Pasta de origem dos dados e pasta de destino para os dados trabalhados\"\"\"\n",
    "path_sources = r'C:\\Users\\vinic\\python_projects\\monitoracao_project\\dados'\n",
    "path_destiny = r'C:\\Users\\vinic\\python_projects\\monitoracao_project\\dados_parquet'\n",
    "\n",
    "folders = listdir(path_sources) # Lembrar de tirar o [0] quando for rodar tudo\n",
    "folders = [folders[0]] # teste com uma pasta só\n",
    "#print(folders)"
   ]
  },
  {
   "cell_type": "code",
   "execution_count": 9,
   "metadata": {},
   "outputs": [
    {
     "data": {
      "text/plain": [
       "['LRV4306_accelerometer_data',\n",
       " 'LRV4306_gps_data',\n",
       " 'LRV4313_accelerometer_data',\n",
       " 'LRV4313_gps_data']"
      ]
     },
     "execution_count": 9,
     "metadata": {},
     "output_type": "execute_result"
    }
   ],
   "source": [
    "listdir(path_sources)"
   ]
  },
  {
   "cell_type": "markdown",
   "metadata": {},
   "source": [
    "# Teste"
   ]
  },
  {
   "cell_type": "code",
   "execution_count": 36,
   "metadata": {},
   "outputs": [
    {
     "data": {
      "text/plain": [
       "\"\\nfor j in range(datas[list(datas.keys())[0]].shape[1]):\\nfor i in range(len(datas.keys())):\\n    plt.plot(datas[list(datas.keys())[i]][j])\\nplt.suptitle(f'type:{folders[0]}; column:{j}')\\nplt.show()\\n\\n\\n\\n\\nx = pd.DataFrame(index=['x', 'y'])\\nx['x','z']=np.array([2, 3, 5])\\n\""
      ]
     },
     "execution_count": 36,
     "metadata": {},
     "output_type": "execute_result"
    }
   ],
   "source": [
    "i = 1\n",
    "linha = 0\n",
    "errors = []\n",
    "\n",
    "if 'accel' in folders[i]:\n",
    "    Dados = pd.DataFrame(columns=['Data', 'N Passagens', 'Direcao', 'Sensor 1', 'Sensor 2', 'Sensor 3', 'Sensor 4', 'Sensor 5'])\n",
    "\n",
    "elif 'gps' in folders[i]:\n",
    "    Dados = pd.DataFrame(columns=['Data', 'N Passagens', 'Direcao', 'Latitude', 'Longitude', 'Altura'])\n",
    "\n",
    "path_sour = path_sources+'\\\\'+folders[i] # entra na pasta com arquivos\n",
    "path_dest = path_destiny+'\\\\'+folders[i] # entra na pasta onde os arquivos serão salvos\n",
    "\n",
    "#mkdir(path_dest) # cria pastas de acordo com o nome da pasta de origem\n",
    "files = listdir(path_sour) # Carrega os nomes dos arquivos dentro da pasta de origem\n",
    "\n",
    "    # Quantidade de linhas no arquivo?\n",
    "\n",
    "\n",
    "n=0\n",
    "\n",
    "j = files[n]\n",
    "\n",
    "props = j.split('_')\n",
    "\n",
    "l = path_sour+'\\\\'+j\n",
    "m = path_dest+'\\\\'+j\n",
    "\n",
    "try:\n",
    "    with h5py.File(l, 'r') as f:\n",
    "        data = np.asarray(f.get('save_var')).T\n",
    "        n_linhas = len(data)\n",
    "\n",
    "except:\n",
    "    try:\n",
    "        data = scipy.io.loadmat(l)\n",
    "        data = np.asarray(data[list(data.keys())[-1]])\n",
    "        \n",
    "    except:\n",
    "        errors.append(l)\n",
    "\n",
    "\n",
    "n_linhas = len(data)\n",
    "# repita a 'Chave', 'Data', 'Direcao', 'N Passagens', 'Sensor 1', 'Sensor 2', 'Sensor 3', 'Sensor 4', 'Sensor 5' n_linhas vezes e depois a \n",
    "# gente joga os dados dos sensores lá\n",
    "\n",
    "# cada linha vai ser uma repetição das de cima\n",
    "if 'accel' in folders[i]:\n",
    "    \n",
    "    df = pd.DataFrame({'Data':[props[1]], 'N Passagens':[props[2]], 'Direcao':[props[3]], 'Sensor 1':[0], 'Sensor 2':[0], 'Sensor 3':[0], 'Sensor 4':[0], 'Sensor 5':[0]})\n",
    "    df_temp = pd.DataFrame(np.repeat(df.values, n_linhas, axis=0))\n",
    "    df_temp.rename(columns = {0:'Data', 1:'N Passagens', 2:'Direcao', 3:'Sensor 1', 4:'Sensor 2', 5:'Sensor 3', 6:'Sensor 4', 7:'Sensor 5'}, inplace=True)\n",
    "    Dados = pd.concat([Dados, df_temp], axis=0, ignore_index=True)\n",
    "    \n",
    "    for k in range(len(Dados.keys())):\n",
    "        if props[-1] in Dados.keys()[k]:\n",
    "            Dados.iloc[n:(n+n_linhas), k]=data\n",
    "\n",
    "    \n",
    "\n",
    "\n",
    "elif 'gps' in folders[i]:\n",
    "\n",
    "    df = pd.DataFrame({'Data':[props[1]], 'N Passagens':[props[2]], 'Direcao':[props[3]], 'Altura':[0], 'Longitude':[0], 'Altura':[0]})\n",
    "    df_temp = pd.DataFrame\n",
    "    df_temp = pd.DataFrame(np.repeat(df.values, n_linhas, axis=0))\n",
    "    df_temp.rename(columns = {0:'Data', 1:'N Passagens', 2:'Direcao', 3:'Altura', 4:'Longitude', 5:'Altura'}, inplace=True)\n",
    "    Dados = pd.concat([Dados, df_temp], axis=0, ignore_index=True)\n",
    "\n",
    "    Dados.iloc[n:(n+n_linhas), 3:6]=data[:,0:3]\n",
    "\n",
    "\n",
    "linha = linha+n_linhas\n",
    "\n",
    "\n",
    "\"\"\"\n",
    "for j in range(datas[list(datas.keys())[0]].shape[1]):\n",
    "for i in range(len(datas.keys())):\n",
    "    plt.plot(datas[list(datas.keys())[i]][j])\n",
    "plt.suptitle(f'type:{folders[0]}; column:{j}')\n",
    "plt.show()\n",
    "\n",
    "\n",
    "\n",
    "\n",
    "x = pd.DataFrame(index=['x', 'y'])\n",
    "x['x','z']=np.array([2, 3, 5])\n",
    "\"\"\""
   ]
  },
  {
   "cell_type": "markdown",
   "metadata": {},
   "source": [
    "### Código"
   ]
  },
  {
   "cell_type": "code",
   "execution_count": 39,
   "metadata": {},
   "outputs": [],
   "source": [
    "errors = [] # Guarda qualquer arquivo que falhou em ser carregado\n",
    "linha = 0\n",
    "for i in range(len(folders)):\n",
    "\n",
    "    if 'accel' in folders[i]:\n",
    "        Dados = pd.DataFrame(columns=['Data', 'N Passagens', 'Direcao', 'Sensor 1', 'Sensor 2', 'Sensor 3', 'Sensor 4', 'Sensor 5'])\n",
    "\n",
    "    elif 'gps' in folders[i]:\n",
    "        Dados = pd.DataFrame(columns=['Data', 'N Passagens', 'Direcao', 'Latitude', 'Longitude', 'Altura'])\n",
    "\n",
    "    path_sour = path_sources+'\\\\'+folders[i] # entra na pasta com arquivos\n",
    "    path_dest = path_destiny+'\\\\'+folders[i] # entra na pasta onde os arquivos serão salvos\n",
    "\n",
    "    #mkdir(path_dest) # cria pastas de acordo com o nome da pasta de origem\n",
    "    files = listdir(path_sour) # Carrega os nomes dos arquivos dentro da pasta de origem\n",
    "\n",
    "        # Quantidade de linhas no arquivo?\n",
    "\n",
    "\n",
    "    for n in range(len(files)):\n",
    "\n",
    "        j = files[n]\n",
    "\n",
    "        props = j.split('_')\n",
    "\n",
    "        l = path_sour+'\\\\'+j\n",
    "        m = path_dest+'\\\\'+j\n",
    "\n",
    "        try:\n",
    "            with h5py.File(l, 'r') as f:\n",
    "                data = np.asarray(f.get('save_var')).T\n",
    "                n_linhas = len(data)\n",
    "        \n",
    "        except:\n",
    "            try:\n",
    "                data = scipy.io.loadmat(l)\n",
    "                data = np.asarray(data[list(data.keys())[-1]])\n",
    "                \n",
    "            except:\n",
    "                errors.append(l)  \n",
    "\n",
    "\n",
    "        n_linhas = len(data)\n",
    "        # repita a 'Chave', 'Data', 'Direcao', 'N Passagens', 'Sensor 1', 'Sensor 2', 'Sensor 3', 'Sensor 4', 'Sensor 5' n_linhas vezes e depois a \n",
    "        # gente joga os dados dos sensores lá\n",
    "\n",
    "        # cada linha vai ser uma repetição das de cima\n",
    "        if 'accel' in folders[i]:\n",
    "            \n",
    "            df = pd.DataFrame({'Data':[props[1]], 'N Passagens':[props[2]], 'Direcao':[props[3]], 'Sensor 1':[0], 'Sensor 2':[0], 'Sensor 3':[0], 'Sensor 4':[0], 'Sensor 5':[0]})\n",
    "            df_temp = pd.DataFrame(np.repeat(df.values, n_linhas, axis=0))\n",
    "            df_temp.rename(columns = {0:'Data', 1:'N Passagens', 2:'Direcao', 3:'Sensor 1', 4:'Sensor 2', 5:'Sensor 3', 6:'Sensor 4', 7:'Sensor 5'}, inplace=True)\n",
    "            Dados = pd.concat([Dados, df_temp], axis=0, ignore_index=True)\n",
    "            \n",
    "            for k in range(len(Dados.keys())):\n",
    "                if props[-1] in Dados.keys()[k]:\n",
    "                    Dados.iloc[n:(n+n_linhas), k]=data\n",
    "\n",
    "            \n",
    "\n",
    "\n",
    "        elif 'gps' in folders[i]:\n",
    "\n",
    "            df = pd.DataFrame({'Data':[props[1]], 'N Passagens':[props[2]], 'Direcao':[props[3]], 'Altura':[0], 'Longitude':[0], 'Altura':[0]})\n",
    "            df_temp = pd.DataFrame\n",
    "            df_temp = pd.DataFrame(np.repeat(df.values, n_linhas, axis=0))\n",
    "            df_temp.rename(columns = {0:'Data', 1:'N Passagens', 2:'Direcao', 3:'Altura', 4:'Longitude', 5:'Altura'}, inplace=True)\n",
    "            Dados = pd.concat([Dados, df_temp], axis=0, ignore_index=True)\n",
    "\n",
    "            Dados.iloc[n:(n+n_linhas), 3:6]=data[:,0:3]\n",
    "\n",
    "\n",
    "        linha = linha+n_linhas\n",
    "\n",
    "\n",
    "\n",
    "\"\"\"\n",
    "for j in range(datas[list(datas.keys())[0]].shape[1]):\n",
    "    for i in range(len(datas.keys())):\n",
    "        plt.plot(datas[list(datas.keys())[i]][j])\n",
    "    plt.suptitle(f'type:{folders[0]}; column:{j}')\n",
    "    plt.show()\n",
    "\n",
    "\n",
    "\n",
    "\n",
    "x = pd.DataFrame(index=['x', 'y'])\n",
    "x['x','z']=np.array([2, 3, 5])\n",
    "\"\"\""
   ]
  },
  {
   "cell_type": "code",
   "execution_count": null,
   "metadata": {},
   "outputs": [],
   "source": []
  },
  {
   "cell_type": "code",
   "execution_count": null,
   "metadata": {},
   "outputs": [],
   "source": [
    "#Unindo dataframes em um único"
   ]
  }
 ],
 "metadata": {
  "kernelspec": {
   "display_name": "Python 3.10.5 64-bit",
   "language": "python",
   "name": "python3"
  },
  "language_info": {
   "codemirror_mode": {
    "name": "ipython",
    "version": 3
   },
   "file_extension": ".py",
   "mimetype": "text/x-python",
   "name": "python",
   "nbconvert_exporter": "python",
   "pygments_lexer": "ipython3",
   "version": "3.10.5"
  },
  "orig_nbformat": 4,
  "vscode": {
   "interpreter": {
    "hash": "735fd90a47749e3d8aef9bbc1d196bfbcc60e5c47746d2d32e6f03ac88616da3"
   }
  }
 },
 "nbformat": 4,
 "nbformat_minor": 2
}
