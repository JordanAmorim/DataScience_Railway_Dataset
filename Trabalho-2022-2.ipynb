{
 "cells": [
  {
   "cell_type": "code",
   "execution_count": 100,
   "metadata": {},
   "outputs": [],
   "source": [
    "import pandas as pd\n",
    "from glob import glob\n",
    "import matplotlib.pyplot as plt\n",
    "import h5py\n",
    "import numpy as np\n",
    "import scipy.io\n",
    "from os import listdir\n",
    "from os import mkdir\n",
    "import pyarrow"
   ]
  },
  {
   "cell_type": "code",
   "execution_count": 101,
   "metadata": {},
   "outputs": [
    {
     "name": "stdout",
     "output_type": "stream",
     "text": [
      "['LRV4306_gps_data']\n"
     ]
    }
   ],
   "source": [
    "\"\"\"Pasta de origem dos dados e pasta de destino para os dados trabalhados\"\"\"\n",
    "path_sources = r'C:\\Users\\vinic\\python_projects\\monitoracao_project\\dados'\n",
    "path_destiny = r'C:\\Users\\vinic\\python_projects\\monitoracao_project\\dados_parquet'\n",
    "\n",
    "folders = listdir(path_sources) # Lembrar de tirar o [0] quando for rodar tudo\n",
    "folders = [folders[2]] # teste com uma pasta só\n",
    "print(folders)"
   ]
  },
  {
   "cell_type": "markdown",
   "metadata": {},
   "source": [
    "### Teste"
   ]
  },
  {
   "cell_type": "code",
   "execution_count": 62,
   "metadata": {},
   "outputs": [
    {
     "ename": "ValueError",
     "evalue": "could not broadcast input array from shape (865447,1) into shape (865447,)",
     "output_type": "error",
     "traceback": [
      "\u001b[1;31m---------------------------------------------------------------------------\u001b[0m",
      "\u001b[1;31mValueError\u001b[0m                                Traceback (most recent call last)",
      "\u001b[1;32mc:\\Users\\vinic\\python_projects\\monitoracao_project\\DataScience_Railway_Dataset\\Trabalho-2022-2.ipynb Célula: 4\u001b[0m in \u001b[0;36m<cell line: 48>\u001b[1;34m()\u001b[0m\n\u001b[0;32m     <a href='vscode-notebook-cell:/c%3A/Users/vinic/python_projects/monitoracao_project/DataScience_Railway_Dataset/Trabalho-2022-2.ipynb#ch0000004?line=54'>55</a>\u001b[0m     \u001b[39mfor\u001b[39;00m k \u001b[39min\u001b[39;00m \u001b[39mrange\u001b[39m(\u001b[39mlen\u001b[39m(Dados\u001b[39m.\u001b[39mkeys())):\n\u001b[0;32m     <a href='vscode-notebook-cell:/c%3A/Users/vinic/python_projects/monitoracao_project/DataScience_Railway_Dataset/Trabalho-2022-2.ipynb#ch0000004?line=55'>56</a>\u001b[0m         \u001b[39mif\u001b[39;00m props[\u001b[39m-\u001b[39m\u001b[39m1\u001b[39m] \u001b[39min\u001b[39;00m Dados\u001b[39m.\u001b[39mkeys()[k]\u001b[39m+\u001b[39m\u001b[39m'\u001b[39m\u001b[39m.mat\u001b[39m\u001b[39m'\u001b[39m:\n\u001b[1;32m---> <a href='vscode-notebook-cell:/c%3A/Users/vinic/python_projects/monitoracao_project/DataScience_Railway_Dataset/Trabalho-2022-2.ipynb#ch0000004?line=56'>57</a>\u001b[0m             Dados\u001b[39m.\u001b[39miloc[linha:(linha\u001b[39m+\u001b[39mn_linhas), k]\u001b[39m=\u001b[39mdata\n\u001b[0;32m     <a href='vscode-notebook-cell:/c%3A/Users/vinic/python_projects/monitoracao_project/DataScience_Railway_Dataset/Trabalho-2022-2.ipynb#ch0000004?line=61'>62</a>\u001b[0m \u001b[39melif\u001b[39;00m \u001b[39m'\u001b[39m\u001b[39mgps\u001b[39m\u001b[39m'\u001b[39m \u001b[39min\u001b[39;00m folders[i]:\n\u001b[0;32m     <a href='vscode-notebook-cell:/c%3A/Users/vinic/python_projects/monitoracao_project/DataScience_Railway_Dataset/Trabalho-2022-2.ipynb#ch0000004?line=63'>64</a>\u001b[0m     df \u001b[39m=\u001b[39m pd\u001b[39m.\u001b[39mDataFrame({\u001b[39m'\u001b[39m\u001b[39mData\u001b[39m\u001b[39m'\u001b[39m:[props[\u001b[39m1\u001b[39m]], \u001b[39m'\u001b[39m\u001b[39mN Passagens\u001b[39m\u001b[39m'\u001b[39m:[props[\u001b[39m2\u001b[39m]], \u001b[39m'\u001b[39m\u001b[39mDirecao\u001b[39m\u001b[39m'\u001b[39m:[props[\u001b[39m3\u001b[39m]], \u001b[39m'\u001b[39m\u001b[39mAltura\u001b[39m\u001b[39m'\u001b[39m:[\u001b[39m0\u001b[39m], \u001b[39m'\u001b[39m\u001b[39mLongitude\u001b[39m\u001b[39m'\u001b[39m:[\u001b[39m0\u001b[39m], \u001b[39m'\u001b[39m\u001b[39mAltura\u001b[39m\u001b[39m'\u001b[39m:[\u001b[39m0\u001b[39m]})\n",
      "File \u001b[1;32mc:\\Users\\vinic\\AppData\\Local\\Programs\\Python\\Python310\\lib\\site-packages\\pandas\\core\\indexing.py:716\u001b[0m, in \u001b[0;36m_LocationIndexer.__setitem__\u001b[1;34m(self, key, value)\u001b[0m\n\u001b[0;32m    713\u001b[0m \u001b[39mself\u001b[39m\u001b[39m.\u001b[39m_has_valid_setitem_indexer(key)\n\u001b[0;32m    715\u001b[0m iloc \u001b[39m=\u001b[39m \u001b[39mself\u001b[39m \u001b[39mif\u001b[39;00m \u001b[39mself\u001b[39m\u001b[39m.\u001b[39mname \u001b[39m==\u001b[39m \u001b[39m\"\u001b[39m\u001b[39miloc\u001b[39m\u001b[39m\"\u001b[39m \u001b[39melse\u001b[39;00m \u001b[39mself\u001b[39m\u001b[39m.\u001b[39mobj\u001b[39m.\u001b[39miloc\n\u001b[1;32m--> 716\u001b[0m iloc\u001b[39m.\u001b[39;49m_setitem_with_indexer(indexer, value, \u001b[39mself\u001b[39;49m\u001b[39m.\u001b[39;49mname)\n",
      "File \u001b[1;32mc:\\Users\\vinic\\AppData\\Local\\Programs\\Python\\Python310\\lib\\site-packages\\pandas\\core\\indexing.py:1690\u001b[0m, in \u001b[0;36m_iLocIndexer._setitem_with_indexer\u001b[1;34m(self, indexer, value, name)\u001b[0m\n\u001b[0;32m   1688\u001b[0m     \u001b[39mself\u001b[39m\u001b[39m.\u001b[39m_setitem_with_indexer_split_path(indexer, value, name)\n\u001b[0;32m   1689\u001b[0m \u001b[39melse\u001b[39;00m:\n\u001b[1;32m-> 1690\u001b[0m     \u001b[39mself\u001b[39;49m\u001b[39m.\u001b[39;49m_setitem_single_block(indexer, value, name)\n",
      "File \u001b[1;32mc:\\Users\\vinic\\AppData\\Local\\Programs\\Python\\Python310\\lib\\site-packages\\pandas\\core\\indexing.py:1938\u001b[0m, in \u001b[0;36m_iLocIndexer._setitem_single_block\u001b[1;34m(self, indexer, value, name)\u001b[0m\n\u001b[0;32m   1935\u001b[0m \u001b[39mself\u001b[39m\u001b[39m.\u001b[39mobj\u001b[39m.\u001b[39m_check_is_chained_assignment_possible()\n\u001b[0;32m   1937\u001b[0m \u001b[39m# actually do the set\u001b[39;00m\n\u001b[1;32m-> 1938\u001b[0m \u001b[39mself\u001b[39m\u001b[39m.\u001b[39mobj\u001b[39m.\u001b[39m_mgr \u001b[39m=\u001b[39m \u001b[39mself\u001b[39;49m\u001b[39m.\u001b[39;49mobj\u001b[39m.\u001b[39;49m_mgr\u001b[39m.\u001b[39;49msetitem(indexer\u001b[39m=\u001b[39;49mindexer, value\u001b[39m=\u001b[39;49mvalue)\n\u001b[0;32m   1939\u001b[0m \u001b[39mself\u001b[39m\u001b[39m.\u001b[39mobj\u001b[39m.\u001b[39m_maybe_update_cacher(clear\u001b[39m=\u001b[39m\u001b[39mTrue\u001b[39;00m, inplace\u001b[39m=\u001b[39m\u001b[39mTrue\u001b[39;00m)\n",
      "File \u001b[1;32mc:\\Users\\vinic\\AppData\\Local\\Programs\\Python\\Python310\\lib\\site-packages\\pandas\\core\\internals\\managers.py:337\u001b[0m, in \u001b[0;36mBaseBlockManager.setitem\u001b[1;34m(self, indexer, value)\u001b[0m\n\u001b[0;32m    331\u001b[0m \u001b[39mdef\u001b[39;00m \u001b[39msetitem\u001b[39m(\u001b[39mself\u001b[39m: T, indexer, value) \u001b[39m-\u001b[39m\u001b[39m>\u001b[39m T:\n\u001b[0;32m    332\u001b[0m     \u001b[39m\"\"\"\u001b[39;00m\n\u001b[0;32m    333\u001b[0m \u001b[39m    Set values with indexer.\u001b[39;00m\n\u001b[0;32m    334\u001b[0m \n\u001b[0;32m    335\u001b[0m \u001b[39m    For SingleBlockManager, this backs s[indexer] = value\u001b[39;00m\n\u001b[0;32m    336\u001b[0m \u001b[39m    \"\"\"\u001b[39;00m\n\u001b[1;32m--> 337\u001b[0m     \u001b[39mreturn\u001b[39;00m \u001b[39mself\u001b[39;49m\u001b[39m.\u001b[39;49mapply(\u001b[39m\"\u001b[39;49m\u001b[39msetitem\u001b[39;49m\u001b[39m\"\u001b[39;49m, indexer\u001b[39m=\u001b[39;49mindexer, value\u001b[39m=\u001b[39;49mvalue)\n",
      "File \u001b[1;32mc:\\Users\\vinic\\AppData\\Local\\Programs\\Python\\Python310\\lib\\site-packages\\pandas\\core\\internals\\managers.py:304\u001b[0m, in \u001b[0;36mBaseBlockManager.apply\u001b[1;34m(self, f, align_keys, ignore_failures, **kwargs)\u001b[0m\n\u001b[0;32m    302\u001b[0m         applied \u001b[39m=\u001b[39m b\u001b[39m.\u001b[39mapply(f, \u001b[39m*\u001b[39m\u001b[39m*\u001b[39mkwargs)\n\u001b[0;32m    303\u001b[0m     \u001b[39melse\u001b[39;00m:\n\u001b[1;32m--> 304\u001b[0m         applied \u001b[39m=\u001b[39m \u001b[39mgetattr\u001b[39m(b, f)(\u001b[39m*\u001b[39m\u001b[39m*\u001b[39mkwargs)\n\u001b[0;32m    305\u001b[0m \u001b[39mexcept\u001b[39;00m (\u001b[39mTypeError\u001b[39;00m, \u001b[39mNotImplementedError\u001b[39;00m):\n\u001b[0;32m    306\u001b[0m     \u001b[39mif\u001b[39;00m \u001b[39mnot\u001b[39;00m ignore_failures:\n",
      "File \u001b[1;32mc:\\Users\\vinic\\AppData\\Local\\Programs\\Python\\Python310\\lib\\site-packages\\pandas\\core\\internals\\blocks.py:959\u001b[0m, in \u001b[0;36mBlock.setitem\u001b[1;34m(self, indexer, value)\u001b[0m\n\u001b[0;32m    957\u001b[0m \u001b[39melse\u001b[39;00m:\n\u001b[0;32m    958\u001b[0m     value \u001b[39m=\u001b[39m setitem_datetimelike_compat(values, \u001b[39mlen\u001b[39m(values[indexer]), value)\n\u001b[1;32m--> 959\u001b[0m     values[indexer] \u001b[39m=\u001b[39m value\n\u001b[0;32m    961\u001b[0m \u001b[39mreturn\u001b[39;00m \u001b[39mself\u001b[39m\n",
      "\u001b[1;31mValueError\u001b[0m: could not broadcast input array from shape (865447,1) into shape (865447,)"
     ]
    }
   ],
   "source": [
    "i = 0\n",
    "linha = 0\n",
    "errors = []\n",
    "\n",
    "if 'accel' in folders[i]:\n",
    "    Dados = pd.DataFrame(columns=['Data', 'N Passagens', 'Direcao', 'Sensor 1', 'Sensor 2', 'Sensor 3', 'Sensor 4', 'Sensor 5'])\n",
    "\n",
    "elif 'gps' in folders[i]:\n",
    "    Dados = pd.DataFrame(columns=['Data', 'N Passagens', 'Direcao', 'Latitude', 'Longitude', 'Altura'])\n",
    "\n",
    "path_sour = path_sources+'\\\\'+folders[i] # entra na pasta com arquivos\n",
    "path_dest = path_destiny+'\\\\'+folders[i] # entra na pasta onde os arquivos serão salvos\n",
    "\n",
    "#mkdir(path_dest) # cria pastas de acordo com o nome da pasta de origem\n",
    "files = listdir(path_sour) # Carrega os nomes dos arquivos dentro da pasta de origem\n",
    "\n",
    "    # Quantidade de linhas no arquivo?\n",
    "\n",
    "\n",
    "n=0\n",
    "\n",
    "j = files[n]\n",
    "\n",
    "props = j.split('_')\n",
    "\n",
    "l = path_sour+'\\\\'+j\n",
    "m = path_dest+'\\\\'+j\n",
    "\n",
    "try:\n",
    "    with h5py.File(l, 'r') as f:\n",
    "        data = np.asarray(f.get('save_var')).T\n",
    "        n_linhas = len(data)\n",
    "\n",
    "except:\n",
    "    try:\n",
    "        data = scipy.io.loadmat(l)\n",
    "        data = np.asarray(data[list(data.keys())[-1]])\n",
    "        \n",
    "    except:\n",
    "        errors.append(l)\n",
    "\n",
    "\n",
    "n_linhas = len(data)\n",
    "# repita a 'Chave', 'Data', 'Direcao', 'N Passagens', 'Sensor 1', 'Sensor 2', 'Sensor 3', 'Sensor 4', 'Sensor 5' n_linhas vezes e depois a \n",
    "# gente joga os dados dos sensores lá\n",
    "\n",
    "# cada linha vai ser uma repetição das de cima\n",
    "if 'accel' in folders[i]:\n",
    "    \n",
    "    df = pd.DataFrame({'Data':[props[1]], 'N Passagens':[props[2]], 'Direcao':[props[3]], 'Sensor 1':[0], 'Sensor 2':[0], 'Sensor 3':[0], 'Sensor 4':[0], 'Sensor 5':[0]})\n",
    "    df_temp = pd.DataFrame(np.repeat(df.values, n_linhas, axis=0))\n",
    "    df_temp.rename(columns = {0:'Data', 1:'N Passagens', 2:'Direcao', 3:'Sensor 1', 4:'Sensor 2', 5:'Sensor 3', 6:'Sensor 4', 7:'Sensor 5'}, inplace=True)\n",
    "    Dados = pd.concat([Dados, df_temp], axis=0, ignore_index=True)\n",
    "    \n",
    "    for k in range(len(Dados.keys())):\n",
    "        if props[-1] in Dados.keys()[k]+'.mat':\n",
    "            Dados.iloc[linha:(linha+n_linhas), k]=data\n",
    "\n",
    "    \n",
    "\n",
    "\n",
    "elif 'gps' in folders[i]:\n",
    "\n",
    "    df = pd.DataFrame({'Data':[props[1]], 'N Passagens':[props[2]], 'Direcao':[props[3]], 'Altura':[0], 'Longitude':[0], 'Altura':[0]})\n",
    "    df_temp = pd.DataFrame(np.repeat(df.values, n_linhas, axis=0))\n",
    "    df_temp.rename(columns = {0:'Data', 1:'N Passagens', 2:'Direcao', 3:'Altura', 4:'Longitude', 5:'Altura'}, inplace=True)\n",
    "    Dados = pd.concat([Dados, df_temp], axis=0, ignore_index=True)\n",
    "\n",
    "    Dados.iloc[linha:(linha+n_linhas), 3:6]=data[:,0:3]\n",
    "    print('--------------------------------------------\\n')\n",
    "    print(Dados.iloc[linha:(linha+n_linhas), 3:6].values)\n",
    "\n",
    "linha = linha+n_linhas\n",
    "\n",
    "\n",
    "\"\"\"\n",
    "for j in range(datas[list(datas.keys())[0]].shape[1]):\n",
    "for i in range(len(datas.keys())):\n",
    "    plt.plot(datas[list(datas.keys())[i]][j])\n",
    "plt.suptitle(f'type:{folders[0]}; column:{j}')\n",
    "plt.show()\n",
    "\n",
    "\n",
    "\n",
    "\n",
    "x = pd.DataFrame(index=['x', 'y'])\n",
    "x['x','z']=np.array([2, 3, 5])\n",
    "\"\"\""
   ]
  },
  {
   "cell_type": "code",
   "execution_count": 61,
   "metadata": {},
   "outputs": [
    {
     "data": {
      "text/plain": [
       "'1.mat'"
      ]
     },
     "execution_count": 61,
     "metadata": {},
     "output_type": "execute_result"
    }
   ],
   "source": [
    "props[-1]"
   ]
  },
  {
   "cell_type": "markdown",
   "metadata": {},
   "source": [
    "### Código"
   ]
  },
  {
   "cell_type": "code",
   "execution_count": 104,
   "metadata": {},
   "outputs": [
    {
     "data": {
      "text/plain": [
       "\"\\nfor j in range(datas[list(datas.keys())[0]].shape[1]):\\n    for i in range(len(datas.keys())):\\n        plt.plot(datas[list(datas.keys())[i]][j])\\n    plt.suptitle(f'type:{folders[0]}; column:{j}')\\n    plt.show()\\n\\n\\n\\n\\nx = pd.DataFrame(index=['x', 'y'])\\nx['x','z']=np.array([2, 3, 5])\\n\""
      ]
     },
     "execution_count": 104,
     "metadata": {},
     "output_type": "execute_result"
    }
   ],
   "source": [
    "errors = [] # Guarda qualquer arquivo que falhou em ser carregado\n",
    "linha = 0\n",
    "for i in range(len(folders)):\n",
    "\n",
    "    if 'accel' in folders[i]:\n",
    "        Dados = pd.DataFrame(columns=['Data', 'N Passagens', 'Direcao', 'Sensor 1', 'Sensor 2', 'Sensor 3', 'Sensor 4', 'Sensor 5'])\n",
    "        name = 'acell'\n",
    "\n",
    "    elif 'gps' in folders[i]:\n",
    "        Dados = pd.DataFrame(columns=['Data', 'N Passagens', 'Direcao', 'Latitude', 'Longitude', 'Altura'])\n",
    "        name = 'gps'\n",
    "\n",
    "    path_sour = path_sources+'\\\\'+folders[i] # entra na pasta com arquivos\n",
    "    path_dest = path_destiny+'\\\\'+folders[i] # entra na pasta onde os arquivos serão salvos\n",
    "\n",
    "    try:\n",
    "        mkdir(path_dest) # cria pastas de acordo com o nome da pasta de origem\n",
    "    except:\n",
    "        pass\n",
    "    \n",
    "    files = listdir(path_sour) # Carrega os nomes dos arquivos dentro da pasta de origem\n",
    "\n",
    "        # Quantidade de linhas no arquivo?\n",
    "\n",
    "\n",
    "    for n in range(len(files)):\n",
    "    \n",
    "        j = files[n]\n",
    "\n",
    "        props = j.split('_')\n",
    "        props[-1] = props[-1][0]\n",
    "\n",
    "        l = path_sour+'\\\\'+j\n",
    "        m = path_dest+'\\\\'+j\n",
    "\n",
    "        try:\n",
    "            with h5py.File(l, 'r') as f:\n",
    "                data = np.asarray(f.get('save_var')).T\n",
    "                n_linhas = len(data)\n",
    "        \n",
    "        except:\n",
    "            try:\n",
    "                data = scipy.io.loadmat(l)\n",
    "                data = np.asarray(data[list(data.keys())[-1]])\n",
    "                \n",
    "            except:\n",
    "                errors.append(l)  \n",
    "\n",
    "\n",
    "        n_linhas = len(data)\n",
    "        # repita a 'Chave', 'Data', 'Direcao', 'N Passagens', 'Sensor 1', 'Sensor 2', 'Sensor 3', 'Sensor 4', 'Sensor 5' n_linhas vezes e depois a \n",
    "        # gente joga os dados dos sensores lá\n",
    "\n",
    "        # cada linha vai ser uma repetição das de cima\n",
    "        if 'accel' in folders[i]:\n",
    "            \n",
    "            df = pd.DataFrame({'Data':[props[1]], 'N Passagens':[props[2]], 'Direcao':[props[3]], 'Sensor 1':[None], 'Sensor 2':[None], 'Sensor 3':[None], 'Sensor 4':[None], 'Sensor 5':[None]})\n",
    "            df_temp = pd.DataFrame(np.repeat(df.values, n_linhas, axis=0))\n",
    "            df_temp.rename(columns = {0:'Data', 1:'N Passagens', 2:'Direcao', 3:'Sensor 1', 4:'Sensor 2', 5:'Sensor 3', 6:'Sensor 4', 7:'Sensor 5'}, inplace=True)\n",
    "            Dados = pd.concat([Dados, df_temp], axis=0, ignore_index=True)\n",
    "            \n",
    "            for k in range(len(Dados.keys())):\n",
    "                if props[-1] in Dados.keys()[k]:\n",
    "                    Dados.iloc[linha:(linha+n_linhas), k]=np.reshape(data, (n_linhas,))\n",
    "\n",
    "            \n",
    "\n",
    "\n",
    "        elif 'gps' in folders[i]:\n",
    "\n",
    "            df = pd.DataFrame({'Data':[props[1]], 'N Passagens':[props[2]], 'Direcao':[props[3]], 'Altura':[None], 'Longitude':[None], 'Altura':[None]})\n",
    "            df_temp = pd.DataFrame\n",
    "            df_temp = pd.DataFrame(np.repeat(df.values, n_linhas, axis=0))\n",
    "            df_temp.rename(columns = {0:'Data', 1:'N Passagens', 2:'Direcao', 3:'Altura', 4:'Longitude', 5:'Altura'}, inplace=True)\n",
    "            Dados = pd.concat([Dados, df_temp], axis=0, ignore_index=True)\n",
    "\n",
    "            Dados.iloc[linha:(linha+n_linhas), 3:6]=data[:,0:3]\n",
    "\n",
    "\n",
    "        linha = linha+n_linhas\n",
    "\n",
    "\n",
    "    Dados.to_parquet(path_dest+'\\\\'+name, engine = 'pyarrow', compression= 'brotli')\n",
    "\n",
    "\n",
    "\"\"\"\n",
    "for j in range(datas[list(datas.keys())[0]].shape[1]):\n",
    "    for i in range(len(datas.keys())):\n",
    "        plt.plot(datas[list(datas.keys())[i]][j])\n",
    "    plt.suptitle(f'type:{folders[0]}; column:{j}')\n",
    "    plt.show()\n",
    "\n",
    "\n",
    "\n",
    "\n",
    "x = pd.DataFrame(index=['x', 'y'])\n",
    "x['x','z']=np.array([2, 3, 5])\n",
    "\"\"\""
   ]
  },
  {
   "cell_type": "markdown",
   "metadata": {},
   "source": [
    "### Alinhamento dos dados"
   ]
  },
  {
   "cell_type": "code",
   "execution_count": null,
   "metadata": {},
   "outputs": [],
   "source": [
    "import dtw\n",
    "\n",
    "\n",
    "## A noisy sine wave as query\n",
    "idx = np.linspace(0,6.28,num=100)\n",
    "query = np.sin(idx) + np.random.uniform(size=100)/10.0\n",
    "\n",
    "## A cosine is for template; sin and cos are offset by 25 samples\n",
    "template = np.cos(idx)\n",
    "\n",
    "## Find the best match with the canonical recursion formula\n",
    "from dtw import *\n",
    "alignment = dtw(query, template, keep_internals=True)\n",
    "\n",
    "## Display the warping curve, i.e. the alignment curve\n",
    "alignment.plot(type=\"threeway\")"
   ]
  }
 ],
 "metadata": {
  "kernelspec": {
   "display_name": "Python 3.10.5 64-bit",
   "language": "python",
   "name": "python3"
  },
  "language_info": {
   "codemirror_mode": {
    "name": "ipython",
    "version": 3
   },
   "file_extension": ".py",
   "mimetype": "text/x-python",
   "name": "python",
   "nbconvert_exporter": "python",
   "pygments_lexer": "ipython3",
   "version": "3.10.5"
  },
  "orig_nbformat": 4,
  "vscode": {
   "interpreter": {
    "hash": "735fd90a47749e3d8aef9bbc1d196bfbcc60e5c47746d2d32e6f03ac88616da3"
   }
  }
 },
 "nbformat": 4,
 "nbformat_minor": 2
}
