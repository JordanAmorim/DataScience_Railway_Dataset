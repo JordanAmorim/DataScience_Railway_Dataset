{
 "cells": [
  {
   "cell_type": "code",
   "execution_count": 1,
   "metadata": {},
   "outputs": [],
   "source": [
    "import pandas as pd\n",
    "from glob import glob\n",
    "import matplotlib.pyplot as plt\n",
    "import h5py\n",
    "import numpy as np\n",
    "import scipy.io\n",
    "from os import listdir\n",
    "from os import mkdir\n",
    "import pyarrow"
   ]
  },
  {
   "cell_type": "markdown",
   "metadata": {},
   "source": [
    "# Indicando as pastas de fonte dos arquivos originais da região 5 e destino dos arquivos chaves"
   ]
  },
  {
   "cell_type": "code",
   "execution_count": 2,
   "metadata": {},
   "outputs": [
    {
     "name": "stdout",
     "output_type": "stream",
     "text": [
      "['LRV4306_accelerometer_data_teste']\n"
     ]
    }
   ],
   "source": [
    "\"\"\"Pasta de origem dos dados e pasta de destino para os dados trabalhados\"\"\"\n",
    "path_sources = r'C:\\Users\\vinic\\python_projects\\monitoracao_project\\dados'\n",
    "path_destiny = r'C:\\Users\\vinic\\python_projects\\monitoracao_project\\dados_parquet'\n",
    "\n",
    "folders = listdir(path_sources) # Lembrar de tirar o [0] quando for rodar tudo\n",
    "folders = [folders[1]] # teste com uma pasta só\n",
    "print(folders)"
   ]
  },
  {
   "cell_type": "markdown",
   "metadata": {},
   "source": [
    "# Código para criação do dataframe das chaves de acesso "
   ]
  },
  {
   "cell_type": "code",
   "execution_count": 10,
   "metadata": {},
   "outputs": [],
   "source": [
    "for i in range(len(folders)):\n",
    "\n",
    "    if 'accel' in folders[i]:\n",
    "        Chaves = pd.DataFrame(columns=['Data', 'N Passagens', 'Direcao', 'Sensor', 'Chave'])\n",
    "\n",
    "    elif 'gps' in folders[i]:\n",
    "        Chaves = pd.DataFrame(columns=['Data', 'N Passagens', 'Direcao', 'Chave'])\n",
    "    \n",
    "    name = folders[i]\n",
    "\n",
    "    path_sour = path_sources+'\\\\'+folders[i] # entra na pasta com arquivos\n",
    "    path_dest = path_destiny+'\\\\'+folders[i] # entra na pasta onde os arquivos serão salvos\n",
    "\n",
    "    try:\n",
    "        mkdir(path_dest) # cria pastas de acordo com o nome da pasta de origem\n",
    "    except:\n",
    "        pass\n",
    "    \n",
    "    files = listdir(path_sour) # Carrega os nomes dos arquivos dentro da pasta de origem\n",
    "\n",
    "        # Quantidade de linhas no arquivo?\n",
    "\n",
    "\n",
    "    for n in range(len(files)):\n",
    "    \n",
    "        j = files[n]\n",
    "\n",
    "        props = j.split('_')\n",
    "        props[-1] = props[-1][0]\n",
    "\n",
    "        l = path_sour+'\\\\'+j\n",
    "        m = path_dest+'\\\\'+j\n",
    "\n",
    "        if 'accel' in folders[i]:\n",
    "            #{file#}_{date}_{root index}_{daily passing#}_{region#}_{running direction}_{sensor channel}.mat\n",
    "            df_temp = pd.DataFrame({'Data':[props[1]], 'N Passagens':[props[3]], 'Direcao':[props[5]], 'Sensor':[props[6]], 'Chave': l})\n",
    "            Chaves = pd.concat([Chaves, df_temp], axis=0, ignore_index=True)\n",
    "\n",
    "\n",
    "        elif 'gps' in folders[i]:\n",
    "\n",
    "            df_temp = pd.DataFrame({'Data':[props[1]], 'N Passagens':[props[3]], 'Direcao':[props[5]], 'Chave':l})\n",
    "            Chaves = pd.concat([Chaves, df_temp], axis=0, ignore_index=True)\n",
    "\n",
    "\n",
    "    Chaves.to_parquet(path_dest+'\\\\'+name+'_key', engine = 'pyarrow', compression= 'brotli')"
   ]
  },
  {
   "cell_type": "markdown",
   "metadata": {},
   "source": [
    "# Carregamento de arquivos específicos"
   ]
  },
  {
   "cell_type": "code",
   "execution_count": 3,
   "metadata": {},
   "outputs": [],
   "source": [
    "# SERA EXCLUIDO DEPOIS\n",
    "\n",
    "errors = [] # Guarda qualquer arquivo que falhou em ser carregado\n",
    "\n",
    "for i in range(len(folders)):\n",
    "\n",
    "    path_sour = path_destiny+'\\\\'+folders[i] # entra na pasta com as chaves\n",
    "    \n",
    "    files = listdir(path_sour) # Carrega os nomes dos arquivos dentro da pasta de origem\n",
    "\n",
    "    for n in range(len(files)):\n",
    "        if 'key' in files[i]:\n",
    "\n",
    "            l = path_sour+'\\\\'+files[i]\n",
    "            \n",
    "            Chaves = pd.read_parquet(l)\n",
    "            \n",
    "            datas = set(Chaves.loc[:,'Data'])\n",
    "            n_passagens = set(Chaves.loc[:,'N Passagens'])\n",
    "            direcoes = set(Chaves.loc[:,'Direcao'])\n",
    "\n",
    "            if 'accel' in files[n]:\n",
    "                sensores = set(Chaves.loc[:,'Sensor'])\n",
    "            elif 'gps' in files[n]:\n",
    "                sensores = None\n",
    "            \n"
   ]
  },
  {
   "cell_type": "code",
   "execution_count": 9,
   "metadata": {},
   "outputs": [
    {
     "data": {
      "text/plain": [
       "{'1'}"
      ]
     },
     "execution_count": 9,
     "metadata": {},
     "output_type": "execute_result"
    }
   ],
   "source": [
    "direcoes"
   ]
  },
  {
   "cell_type": "markdown",
   "metadata": {},
   "source": [
    "## Teste sensor 1 dados"
   ]
  },
  {
   "cell_type": "code",
   "execution_count": null,
   "metadata": {},
   "outputs": [],
   "source": [
    "# tratar dados que são None\n",
    "print('Teste de qualidade dos dados')\n",
    "print('--------------------------------')\n",
    "for i in Chaves.keys():\n",
    "    print(f'Elementos \"None\" na coluna {i}?')\n",
    "    print(set(Chaves.loc[:, 'Sensor'] == None))\n",
    "    print(f'Tamanho na coluna {i}')\n",
    "    print(len(Chaves.loc[:, 'Sensor']))\n",
    "    print('-----------------------------------')"
   ]
  },
  {
   "cell_type": "code",
   "execution_count": 82,
   "metadata": {},
   "outputs": [],
   "source": [
    "errors = []\n",
    "for i in range(len(folders)):\n",
    "\n",
    "    path_sour = path_destiny+'\\\\'+folders[i] # entra na pasta com as chaves\n",
    "    \n",
    "    files = listdir(path_sour)\n",
    "\n",
    "    for j in range(len(files)):\n",
    "\n",
    "        if 'key' in files[i]: # carrega só os arquivos de chave\n",
    "\n",
    "            l = path_sour+'\\\\'+files[i]\n",
    "            \n",
    "            Chaves = pd.read_parquet(l)\n",
    "            \n",
    "            datas = set(Chaves.loc[:,'Data'])\n",
    "            n_passagens = set(Chaves.loc[:,'N Passagens'])\n",
    "            direcoes = set(Chaves.loc[:,'Direcao'])\n",
    "\n",
    "            if 'accel' in files[j]:\n",
    "                sensores = set(Chaves.loc[:,'Sensor'])\n",
    "            elif 'gps' in files[j]:\n",
    "                sensores = None\n",
    "\n",
    "\n",
    "        if 'accel' in folders[i]: \n",
    "            for p in datas:\n",
    "                for q in n_passagens:\n",
    "                    for r in direcoes:\n",
    "\n",
    "                        df_temp = pd.DataFrame()\n",
    "                        linhas_chave = (Chaves.loc[:,['Data', 'N Passagens', 'Direcao']]==[p, q, r]).all(axis=1)\n",
    "\n",
    "                        for s in sensores:\n",
    "\n",
    "                            for t in range(len(linhas_chave)):\n",
    "\n",
    "                                if linhas_chave.iloc[t]:\n",
    "\n",
    "                                    try:\n",
    "                                        with h5py.File(l, 'r') as f:\n",
    "                                            arq_carregado = np.asarray(f.get('save_var')).T                                    \n",
    "                                    except:\n",
    "                                        try:\n",
    "                                            arq_carregado = scipy.io.loadmat(l)\n",
    "                                            arq_carregado = np.asarray(arq_carregado[list(arq_carregado.keys())[-1]])\n",
    "                                            \n",
    "                                        except:\n",
    "                                            errors.append(l) \n",
    "\n",
    "                                    df_temp[f'Sensor '+s] = arq_carregado[:,0]\n",
    "\n",
    "\n",
    "        elif 'gps' in folders[i]:\n",
    "            for p in datas:\n",
    "                for q in n_passagens:\n",
    "                    for r in direcoes:\n",
    "                        df_temp = pd.DataFrame(columns = ['latitude', 'longitude', 'altura'])\n",
    "        \n",
    "                        linhas_chave = (Chaves.loc[:,['Data', 'N Passagens', 'Direcao']]==[p, q, r]).all(axis=1)\n",
    "\n",
    "                        for t in range(len(linhas_chave)):\n",
    "\n",
    "                                if linhas_chave.iloc[t]:\n",
    "\n",
    "                                    try:\n",
    "                                        with h5py.File(l, 'r') as f:\n",
    "                                            arq_carregado = np.asarray(f.get('save_var')).T                                    \n",
    "                                    except:\n",
    "                                        try:\n",
    "                                            arq_carregado = scipy.io.loadmat(l)\n",
    "                                            arq_carregado = np.asarray(arq_carregado[list(arq_carregado.keys())[-1]])\n",
    "                                            \n",
    "                                        except:\n",
    "                                            errors.append(l) \n",
    "\n",
    "                                    arq_carregado = pd.read_parquet(linhas_chave[-1]) \n",
    "\n",
    "                                    df_temp['Data'] = arq_carregado[:,0]\n",
    "\n",
    "                                    df_temp['N passagens'] = arq_carregado[:,1]\n",
    "\n",
    "                                    df_temp['Direcao'] = arq_carregado[:,2]\n"
   ]
  },
  {
   "cell_type": "code",
   "execution_count": 83,
   "metadata": {},
   "outputs": [
    {
     "data": {
      "text/html": [
       "<div>\n",
       "<style scoped>\n",
       "    .dataframe tbody tr th:only-of-type {\n",
       "        vertical-align: middle;\n",
       "    }\n",
       "\n",
       "    .dataframe tbody tr th {\n",
       "        vertical-align: top;\n",
       "    }\n",
       "\n",
       "    .dataframe thead th {\n",
       "        text-align: right;\n",
       "    }\n",
       "</style>\n",
       "<table border=\"1\" class=\"dataframe\">\n",
       "  <thead>\n",
       "    <tr style=\"text-align: right;\">\n",
       "      <th></th>\n",
       "      <th>Sensor 2</th>\n",
       "      <th>Sensor 3</th>\n",
       "      <th>Sensor 1</th>\n",
       "    </tr>\n",
       "  </thead>\n",
       "  <tbody>\n",
       "    <tr>\n",
       "      <th>0</th>\n",
       "      <td>0.313770</td>\n",
       "      <td>0.313770</td>\n",
       "      <td>0.313770</td>\n",
       "    </tr>\n",
       "    <tr>\n",
       "      <th>1</th>\n",
       "      <td>0.123914</td>\n",
       "      <td>0.123914</td>\n",
       "      <td>0.123914</td>\n",
       "    </tr>\n",
       "    <tr>\n",
       "      <th>2</th>\n",
       "      <td>0.009619</td>\n",
       "      <td>0.009619</td>\n",
       "      <td>0.009619</td>\n",
       "    </tr>\n",
       "    <tr>\n",
       "      <th>3</th>\n",
       "      <td>0.170537</td>\n",
       "      <td>0.170537</td>\n",
       "      <td>0.170537</td>\n",
       "    </tr>\n",
       "    <tr>\n",
       "      <th>4</th>\n",
       "      <td>0.132229</td>\n",
       "      <td>0.132229</td>\n",
       "      <td>0.132229</td>\n",
       "    </tr>\n",
       "    <tr>\n",
       "      <th>...</th>\n",
       "      <td>...</td>\n",
       "      <td>...</td>\n",
       "      <td>...</td>\n",
       "    </tr>\n",
       "    <tr>\n",
       "      <th>865442</th>\n",
       "      <td>0.172725</td>\n",
       "      <td>0.172725</td>\n",
       "      <td>0.172725</td>\n",
       "    </tr>\n",
       "    <tr>\n",
       "      <th>865443</th>\n",
       "      <td>0.127627</td>\n",
       "      <td>0.127627</td>\n",
       "      <td>0.127627</td>\n",
       "    </tr>\n",
       "    <tr>\n",
       "      <th>865444</th>\n",
       "      <td>0.201840</td>\n",
       "      <td>0.201840</td>\n",
       "      <td>0.201840</td>\n",
       "    </tr>\n",
       "    <tr>\n",
       "      <th>865445</th>\n",
       "      <td>0.342721</td>\n",
       "      <td>0.342721</td>\n",
       "      <td>0.342721</td>\n",
       "    </tr>\n",
       "    <tr>\n",
       "      <th>865446</th>\n",
       "      <td>0.335625</td>\n",
       "      <td>0.335625</td>\n",
       "      <td>0.335625</td>\n",
       "    </tr>\n",
       "  </tbody>\n",
       "</table>\n",
       "<p>865447 rows × 3 columns</p>\n",
       "</div>"
      ],
      "text/plain": [
       "        Sensor 2  Sensor 3  Sensor 1\n",
       "0       0.313770  0.313770  0.313770\n",
       "1       0.123914  0.123914  0.123914\n",
       "2       0.009619  0.009619  0.009619\n",
       "3       0.170537  0.170537  0.170537\n",
       "4       0.132229  0.132229  0.132229\n",
       "...          ...       ...       ...\n",
       "865442  0.172725  0.172725  0.172725\n",
       "865443  0.127627  0.127627  0.127627\n",
       "865444  0.201840  0.201840  0.201840\n",
       "865445  0.342721  0.342721  0.342721\n",
       "865446  0.335625  0.335625  0.335625\n",
       "\n",
       "[865447 rows x 3 columns]"
      ]
     },
     "execution_count": 83,
     "metadata": {},
     "output_type": "execute_result"
    }
   ],
   "source": [
    "df_temp"
   ]
  },
  {
   "cell_type": "code",
   "execution_count": 43,
   "metadata": {},
   "outputs": [
    {
     "data": {
      "text/plain": [
       "'C:\\\\Users\\\\vinic\\\\python_projects\\\\monitoracao_project\\\\dados\\\\LRV4306_accelerometer_data_teste\\\\37_20131121_1_1_5_1_1.mat'"
      ]
     },
     "execution_count": 43,
     "metadata": {},
     "output_type": "execute_result"
    }
   ],
   "source": [
    "Chaves.iloc[t,-1]"
   ]
  },
  {
   "cell_type": "markdown",
   "metadata": {},
   "source": [
    "#Transformacao de coordenada em distância"
   ]
  }
 ],
 "metadata": {
  "kernelspec": {
   "display_name": "Python 3.10.5 64-bit",
   "language": "python",
   "name": "python3"
  },
  "language_info": {
   "codemirror_mode": {
    "name": "ipython",
    "version": 3
   },
   "file_extension": ".py",
   "mimetype": "text/x-python",
   "name": "python",
   "nbconvert_exporter": "python",
   "pygments_lexer": "ipython3",
   "version": "3.10.5"
  },
  "orig_nbformat": 4,
  "vscode": {
   "interpreter": {
    "hash": "735fd90a47749e3d8aef9bbc1d196bfbcc60e5c47746d2d32e6f03ac88616da3"
   }
  }
 },
 "nbformat": 4,
 "nbformat_minor": 2
}
