{
 "cells": [
  {
   "cell_type": "code",
   "execution_count": 2,
   "metadata": {},
   "outputs": [],
   "source": [
    "import pandas as pd\n",
    "from glob import glob\n",
    "import matplotlib.pyplot as plt\n",
    "import h5py\n",
    "import numpy as np\n",
    "import scipy.io\n",
    "from os import listdir\n",
    "from os import mkdir\n",
    "import pyarrow"
   ]
  },
  {
   "cell_type": "code",
   "execution_count": 3,
   "metadata": {},
   "outputs": [
    {
     "name": "stdout",
     "output_type": "stream",
     "text": [
      "['LRV4306_accelerometer_data_teste']\n"
     ]
    }
   ],
   "source": [
    "\"\"\"Pasta de origem dos dados e pasta de destino para os dados trabalhados\"\"\"\n",
    "path_sources = r'C:\\Users\\vinic\\python_projects\\monitoracao_project\\dados'\n",
    "path_destiny = r'C:\\Users\\vinic\\python_projects\\monitoracao_project\\dados_parquet'\n",
    "\n",
    "folders = listdir(path_sources) # Lembrar de tirar o [0] quando for rodar tudo\n",
    "folders = [folders[1]] # teste com uma pasta só\n",
    "print(folders)"
   ]
  },
  {
   "cell_type": "code",
   "execution_count": null,
   "metadata": {},
   "outputs": [],
   "source": [
    "errors = [] # Guarda qualquer arquivo que falhou em ser carregado\n",
    "linha = 0\n",
    "for i in range(len(folders)):\n",
    "\n",
    "    if 'accel' in folders[i]:\n",
    "        Chaves = pd.DataFrame(columns=['Data', 'N Passagens', 'Direcao', 'Sensor', 'Chave'])\n",
    "        name = 'acell'\n",
    "\n",
    "    elif 'gps' in folders[i]:\n",
    "        Chaves = pd.DataFrame(columns=['Data', 'N Passagens', 'Direcao', 'Chave'])\n",
    "        name = 'gps'\n",
    "\n",
    "    path_sour = path_sources+'\\\\'+folders[i] # entra na pasta com arquivos\n",
    "    path_dest = path_destiny+'\\\\'+folders[i] # entra na pasta onde os arquivos serão salvos\n",
    "\n",
    "    try:\n",
    "        mkdir(path_dest) # cria pastas de acordo com o nome da pasta de origem\n",
    "    except:\n",
    "        pass\n",
    "    \n",
    "    files = listdir(path_sour) # Carrega os nomes dos arquivos dentro da pasta de origem\n",
    "\n",
    "        # Quantidade de linhas no arquivo?\n",
    "\n",
    "\n",
    "    for n in range(len(files)):\n",
    "    \n",
    "        j = files[n]\n",
    "\n",
    "        props = j.split('_')\n",
    "        props[-1] = props[-1][0]\n",
    "\n",
    "        l = path_sour+'\\\\'+j\n",
    "        m = path_dest+'\\\\'+j\n",
    "\n",
    "        if 'accel' in folders[i]:\n",
    "            #{file#}_{date}_{root index}_{daily passing#}_{region#}_{running direction}_{sensor channel}.mat\n",
    "            df_temp = pd.DataFrame({'Data':[props[1]], 'N Passagens':[props[3]], 'Direcao':[props[5]], 'Sensor':[props[6]], 'Chave': j})\n",
    "            Chaves = pd.concat([Chaves, df_temp], axis=0, ignore_index=True)\n",
    "\n",
    "\n",
    "        elif 'gps' in folders[i]:\n",
    "\n",
    "            df_temp = pd.DataFrame({'Data':[props[1]], 'N Passagens':[props[3]], 'Direcao':[props[5]], 'Chave':j})\n",
    "            Chaves = pd.concat([Chaves, df_temp], axis=0, ignore_index=True)\n",
    "\n",
    "\n",
    "    Chaves.to_parquet(path_dest+'\\\\'+name, engine = 'pyarrow', compression= 'brotli')"
   ]
  }
 ],
 "metadata": {
  "kernelspec": {
   "display_name": "Python 3.10.5 64-bit",
   "language": "python",
   "name": "python3"
  },
  "language_info": {
   "codemirror_mode": {
    "name": "ipython",
    "version": 3
   },
   "file_extension": ".py",
   "mimetype": "text/x-python",
   "name": "python",
   "nbconvert_exporter": "python",
   "pygments_lexer": "ipython3",
   "version": "3.10.5"
  },
  "orig_nbformat": 4,
  "vscode": {
   "interpreter": {
    "hash": "735fd90a47749e3d8aef9bbc1d196bfbcc60e5c47746d2d32e6f03ac88616da3"
   }
  }
 },
 "nbformat": 4,
 "nbformat_minor": 2
}
